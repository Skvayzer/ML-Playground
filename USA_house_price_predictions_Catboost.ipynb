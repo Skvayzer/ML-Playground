{
  "nbformat": 4,
  "nbformat_minor": 5,
  "metadata": {
    "kernelspec": {
      "display_name": "Python 3",
      "language": "python",
      "name": "python3"
    },
    "language_info": {
      "codemirror_mode": {
        "name": "ipython",
        "version": 3
      },
      "file_extension": ".py",
      "mimetype": "text/x-python",
      "name": "python",
      "nbconvert_exporter": "python",
      "pygments_lexer": "ipython3",
      "version": "3.8.8"
    },
    "colab": {
      "name": "USA-house-price-predictions-Catboost.ipynb",
      "provenance": []
    }
  },
  "cells": [
    {
      "cell_type": "code",
      "metadata": {
        "colab": {
          "base_uri": "https://localhost:8080/"
        },
        "id": "06ad4d5d",
        "outputId": "afbfdbc7-677a-47d9-b92a-40467e741ab1"
      },
      "source": [
        "!pip install catboost\n",
        "!pip install mapboxcli"
      ],
      "id": "06ad4d5d",
      "execution_count": null,
      "outputs": [
        {
          "output_type": "stream",
          "name": "stdout",
          "text": [
            "Collecting catboost\n",
            "  Downloading catboost-0.26.1-cp37-none-manylinux1_x86_64.whl (67.4 MB)\n",
            "\u001b[K     |████████████████████████████████| 67.4 MB 28 kB/s \n",
            "\u001b[?25hRequirement already satisfied: numpy>=1.16.0 in /usr/local/lib/python3.7/dist-packages (from catboost) (1.19.5)\n",
            "Requirement already satisfied: scipy in /usr/local/lib/python3.7/dist-packages (from catboost) (1.4.1)\n",
            "Requirement already satisfied: pandas>=0.24.0 in /usr/local/lib/python3.7/dist-packages (from catboost) (1.1.5)\n",
            "Requirement already satisfied: plotly in /usr/local/lib/python3.7/dist-packages (from catboost) (4.4.1)\n",
            "Requirement already satisfied: graphviz in /usr/local/lib/python3.7/dist-packages (from catboost) (0.10.1)\n",
            "Requirement already satisfied: six in /usr/local/lib/python3.7/dist-packages (from catboost) (1.15.0)\n",
            "Requirement already satisfied: matplotlib in /usr/local/lib/python3.7/dist-packages (from catboost) (3.2.2)\n",
            "Requirement already satisfied: python-dateutil>=2.7.3 in /usr/local/lib/python3.7/dist-packages (from pandas>=0.24.0->catboost) (2.8.2)\n",
            "Requirement already satisfied: pytz>=2017.2 in /usr/local/lib/python3.7/dist-packages (from pandas>=0.24.0->catboost) (2018.9)\n",
            "Requirement already satisfied: pyparsing!=2.0.4,!=2.1.2,!=2.1.6,>=2.0.1 in /usr/local/lib/python3.7/dist-packages (from matplotlib->catboost) (2.4.7)\n",
            "Requirement already satisfied: kiwisolver>=1.0.1 in /usr/local/lib/python3.7/dist-packages (from matplotlib->catboost) (1.3.1)\n",
            "Requirement already satisfied: cycler>=0.10 in /usr/local/lib/python3.7/dist-packages (from matplotlib->catboost) (0.10.0)\n",
            "Requirement already satisfied: retrying>=1.3.3 in /usr/local/lib/python3.7/dist-packages (from plotly->catboost) (1.3.3)\n",
            "Installing collected packages: catboost\n",
            "Successfully installed catboost-0.26.1\n",
            "Collecting mapboxcli\n",
            "  Downloading mapboxcli-0.8.0-py3-none-any.whl (13 kB)\n",
            "Requirement already satisfied: six in /usr/local/lib/python3.7/dist-packages (from mapboxcli) (1.15.0)\n",
            "Collecting cligj>=0.4\n",
            "  Downloading cligj-0.7.2-py3-none-any.whl (7.1 kB)\n",
            "Collecting click-plugins\n",
            "  Downloading click_plugins-1.1.1-py2.py3-none-any.whl (7.5 kB)\n",
            "Requirement already satisfied: click in /usr/local/lib/python3.7/dist-packages (from mapboxcli) (7.1.2)\n",
            "Collecting mapbox==0.16.1\n",
            "  Downloading mapbox-0.16.1-py2.py3-none-any.whl (26 kB)\n",
            "Collecting boto3>=1.4\n",
            "  Downloading boto3-1.18.43-py3-none-any.whl (131 kB)\n",
            "\u001b[K     |████████████████████████████████| 131 kB 5.7 MB/s \n",
            "\u001b[?25hRequirement already satisfied: uritemplate>=2.0 in /usr/local/lib/python3.7/dist-packages (from mapbox==0.16.1->mapboxcli) (3.0.1)\n",
            "Collecting iso3166\n",
            "  Downloading iso3166-2.0.1-py3-none-any.whl (8.4 kB)\n",
            "Collecting polyline>=1.3.1\n",
            "  Downloading polyline-1.4.0-py2.py3-none-any.whl (4.4 kB)\n",
            "Requirement already satisfied: python-dateutil>=2.5.0requests in /usr/local/lib/python3.7/dist-packages (from mapbox==0.16.1->mapboxcli) (2.8.2)\n",
            "Requirement already satisfied: cachecontrol in /usr/local/lib/python3.7/dist-packages (from mapbox==0.16.1->mapboxcli) (0.12.6)\n",
            "Collecting jmespath<1.0.0,>=0.7.1\n",
            "  Downloading jmespath-0.10.0-py2.py3-none-any.whl (24 kB)\n",
            "Collecting botocore<1.22.0,>=1.21.43\n",
            "  Downloading botocore-1.21.43-py3-none-any.whl (7.9 MB)\n",
            "\u001b[K     |████████████████████████████████| 7.9 MB 18.6 MB/s \n",
            "\u001b[?25hCollecting s3transfer<0.6.0,>=0.5.0\n",
            "  Downloading s3transfer-0.5.0-py3-none-any.whl (79 kB)\n",
            "\u001b[K     |████████████████████████████████| 79 kB 8.1 MB/s \n",
            "\u001b[?25hCollecting urllib3<1.27,>=1.25.4\n",
            "  Downloading urllib3-1.26.6-py2.py3-none-any.whl (138 kB)\n",
            "\u001b[K     |████████████████████████████████| 138 kB 60.0 MB/s \n",
            "\u001b[?25hRequirement already satisfied: requests in /usr/local/lib/python3.7/dist-packages (from cachecontrol->mapbox==0.16.1->mapboxcli) (2.23.0)\n",
            "Requirement already satisfied: msgpack>=0.5.2 in /usr/local/lib/python3.7/dist-packages (from cachecontrol->mapbox==0.16.1->mapboxcli) (1.0.2)\n",
            "Requirement already satisfied: certifi>=2017.4.17 in /usr/local/lib/python3.7/dist-packages (from requests->cachecontrol->mapbox==0.16.1->mapboxcli) (2021.5.30)\n",
            "  Downloading urllib3-1.25.11-py2.py3-none-any.whl (127 kB)\n",
            "\u001b[K     |████████████████████████████████| 127 kB 60.1 MB/s \n",
            "\u001b[?25hRequirement already satisfied: chardet<4,>=3.0.2 in /usr/local/lib/python3.7/dist-packages (from requests->cachecontrol->mapbox==0.16.1->mapboxcli) (3.0.4)\n",
            "Requirement already satisfied: idna<3,>=2.5 in /usr/local/lib/python3.7/dist-packages (from requests->cachecontrol->mapbox==0.16.1->mapboxcli) (2.10)\n",
            "Installing collected packages: urllib3, jmespath, botocore, s3transfer, polyline, iso3166, boto3, mapbox, cligj, click-plugins, mapboxcli\n",
            "  Attempting uninstall: urllib3\n",
            "    Found existing installation: urllib3 1.24.3\n",
            "    Uninstalling urllib3-1.24.3:\n",
            "      Successfully uninstalled urllib3-1.24.3\n",
            "\u001b[31mERROR: pip's dependency resolver does not currently take into account all the packages that are installed. This behaviour is the source of the following dependency conflicts.\n",
            "datascience 0.10.6 requires folium==0.2.1, but you have folium 0.8.3 which is incompatible.\u001b[0m\n",
            "Successfully installed boto3-1.18.43 botocore-1.21.43 click-plugins-1.1.1 cligj-0.7.2 iso3166-2.0.1 jmespath-0.10.0 mapbox-0.16.1 mapboxcli-0.8.0 polyline-1.4.0 s3transfer-0.5.0 urllib3-1.25.11\n"
          ]
        }
      ]
    },
    {
      "cell_type": "code",
      "metadata": {
        "id": "3748f532"
      },
      "source": [
        "import numpy as np\n",
        "import os\n",
        "from catboost import CatBoostRegressor\n",
        "import subprocess"
      ],
      "id": "3748f532",
      "execution_count": null,
      "outputs": []
    },
    {
      "cell_type": "code",
      "metadata": {
        "colab": {
          "base_uri": "https://localhost:8080/"
        },
        "id": "ea9d2004",
        "outputId": "0dbee3a8-62c4-4e5b-d0c1-1650f2c95df2"
      },
      "source": [
        "# clf = CatBoostClassifier()\n",
        "# clf.load_model(\"model\")\n",
        "\n",
        "#for USA's homes\n",
        "#clf.predict(bedrooms, bathrooms, sqft_living, sqft_lot, floors, waterfront, view, condition, sqft_above, sqft_basement, yr_built, yr_renovated, latitude, longitude)\n",
        "\n",
        "#translating adress to the latitude and longitude\n",
        "#for example string request can be: street, city, statezip, country.\n",
        "#address - variable example \n",
        "address = \"18810 Densmore Ave N, Shoreline, WA 98133, USA\"\n",
        "command = \"mapbox --access-token pk.eyJ1IjoiaXBpcG9zIiwiYSI6ImNrdGw5czZxbjFpbTUyd282YjlqY2ZvODMifQ.mnnD6BdczXSaIlFJFC_byQ geocoding --limit 1 \"\n",
        "command += \"\\\"\" + address + \"\\\"\"\n",
        "fileText = subprocess.check_output(command, shell=True).decode()\n",
        "\n",
        "index = fileText.find(\"center\")\n",
        "index2 = fileText.find(']', index + 3)\n",
        "index3 = fileText.rfind(',', index + 3, index2)\n",
        "\n",
        "latitude = fileText[index+9:index3]\n",
        "longitude = fileText[index3+1:index2]\n",
        "\n",
        "print(latitude, longitude)\n",
        "\n",
        "#example\n",
        "clf.predict(3.0, 1.50, 1340, 7912, 1.5, 0, 0, 3, 1340, 0, 1955, 2005, -122.338866, 47.765807)"
      ],
      "id": "ea9d2004",
      "execution_count": null,
      "outputs": [
        {
          "output_type": "stream",
          "name": "stdout",
          "text": [
            "-122.338866 47.765807\n"
          ]
        }
      ]
    }
  ]
}