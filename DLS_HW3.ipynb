{
  "nbformat": 4,
  "nbformat_minor": 0,
  "metadata": {
    "colab": {
      "name": "DLS-HW3.ipynb",
      "provenance": [],
      "collapsed_sections": [],
      "toc_visible": true
    },
    "kernelspec": {
      "display_name": "Python 3",
      "language": "python",
      "name": "python3"
    },
    "language_info": {
      "codemirror_mode": {
        "name": "ipython",
        "version": 3
      },
      "file_extension": ".py",
      "mimetype": "text/x-python",
      "name": "python",
      "nbconvert_exporter": "python",
      "pygments_lexer": "ipython3",
      "version": "3.7.4"
    }
  },
  "cells": [
    {
      "cell_type": "markdown",
      "metadata": {
        "id": "TK7oX5qdEEYr"
      },
      "source": [
        "<p style=\"align: center;\"><img align=center src=\"https://s8.hostingkartinok.com/uploads/images/2018/08/308b49fcfbc619d629fe4604bceb67ac.jpg\" width=500 height=450/></p>\n",
        "\n",
        "<h3 style=\"text-align: center;\"><b>Школа глубокого обучения ФПМИ МФТИ</b></h3>\n",
        "\n",
        "<h3 style=\"text-align: center;\"><b>Домашнее задание. Продвинутый поток. Осень 2020</b></h3>\n",
        "\n",
        "Это домашнее задание будет посвящено полноценному решению задачи машинного обучения."
      ]
    },
    {
      "cell_type": "code",
      "metadata": {
        "colab": {
          "base_uri": "https://localhost:8080/"
        },
        "id": "_yCEpb99-JIY",
        "outputId": "0825d960-9cef-4d0b-bc3c-677dd804cfc0"
      },
      "source": [
        "from google.colab import drive\n",
        "drive.mount('/content/drive')"
      ],
      "execution_count": null,
      "outputs": [
        {
          "output_type": "stream",
          "text": [
            "Drive already mounted at /content/drive; to attempt to forcibly remount, call drive.mount(\"/content/drive\", force_remount=True).\n"
          ],
          "name": "stdout"
        }
      ]
    },
    {
      "cell_type": "markdown",
      "metadata": {
        "id": "zlB-owfaEEYs"
      },
      "source": [
        "Есть две части этого домашнего задания: \n",
        "* Сделать полноценный отчет о вашей работе: как вы обработали данные, какие модели попробовали и какие результаты получились (максимум 10 баллов). За каждую выполненную часть будет начислено определенное количество баллов.\n",
        "* Лучшее решение отправить в соревнование на [kaggle](https://www.kaggle.com/t/f50bc21dbe0e42dabe5e32a21f2e5235) (максимум 5 баллов). За прохождение определенного порогов будут начисляться баллы.\n",
        "\n",
        "\n",
        "**Обе части будут проверяться в формате peer-review. Т.е. вашу посылку на степик будут проверять несколько других студентов и аггрегация их оценок будет выставлена. В то же время вам тоже нужно будет проверить несколько других учеников.**\n",
        "\n",
        "**Пожалуйста, делайте свою работу чистой и понятной, чтобы облегчить проверку. Если у вас будут проблемы с решением или хочется совета, то пишите в наш чат в телеграме или в лс @runfme. Если вы захотите проаппелировать оценку, то пипшите в лс @runfme.**\n",
        "\n",
        "**Во всех пунктах указания это минимальный набор вещей, которые стоит сделать. Если вы можете сделать какой-то шаг лучше или добавить что-то свое - дерзайте!**"
      ]
    },
    {
      "cell_type": "markdown",
      "metadata": {
        "id": "Tu_JvqcBEN8Y"
      },
      "source": [
        "# Как проверять?\n",
        "\n",
        "Ставьте полный балл, если выполнены все рекомендации или сделано что-то более интересное и сложное. За каждый отсустствующий пункт из рекомендация снижайте 1 балл."
      ]
    },
    {
      "cell_type": "markdown",
      "metadata": {
        "id": "ninJ63mJEEYt"
      },
      "source": [
        "# Метрика. \n",
        "\n",
        "Перед решением любой задачи важно понимать, как будет оцениваться ваше решение. В данном случае мы используем стандартную для задачи классификации метрику ROC-AUC. Ее можно вычислить используя только предсказанные вероятности и истинные классы без конкретного порога классификации + она раотает даже если классы в данных сильно несбалансированны (примеров одного класса в десятки раз больше примеров длугого). Именно поэтому она очень удобна для соревнований.\n",
        "\n",
        "Посчитать ее легко:\n"
      ]
    },
    {
      "cell_type": "code",
      "metadata": {
        "colab": {
          "base_uri": "https://localhost:8080/"
        },
        "id": "SQIrka7yEEYu",
        "outputId": "1316eec5-8a52-4f44-ff1f-158c45c1f10b"
      },
      "source": [
        "from sklearn.metrics import roc_auc_score\n",
        "\n",
        "y_true = [\n",
        "    0,\n",
        "    1,\n",
        "    1,\n",
        "    0,\n",
        "    1\n",
        "]\n",
        "\n",
        "y_predictions = [\n",
        "    0.1,\n",
        "    0.9,\n",
        "    0.4,\n",
        "    0.6,\n",
        "    0.61\n",
        "]\n",
        "\n",
        "roc_auc_score(y_true, y_predictions)"
      ],
      "execution_count": null,
      "outputs": [
        {
          "output_type": "execute_result",
          "data": {
            "text/plain": [
              "0.8333333333333333"
            ]
          },
          "metadata": {
            "tags": []
          },
          "execution_count": 58
        }
      ]
    },
    {
      "cell_type": "markdown",
      "metadata": {
        "id": "IrDNNkNTEEYz"
      },
      "source": [
        "# Первая часть. Исследование."
      ]
    },
    {
      "cell_type": "code",
      "metadata": {
        "id": "lzLqEeZKEEYz"
      },
      "source": [
        "import pandas as pd\n",
        "import numpy as np\n",
        "from matplotlib import pyplot as plt"
      ],
      "execution_count": null,
      "outputs": []
    },
    {
      "cell_type": "markdown",
      "metadata": {
        "id": "LOlxdURSEEY3"
      },
      "source": [
        "## Загрузка данных (2 балла)\n",
        "\n",
        "1) Посмотрите на случайные строчки. \n",
        "\n",
        "2) Посмотрите, есть ли в датасете незаполненные значения (nan'ы) с помощью data.isna() или data.info() и, если нужно, замените их на что-то. Будет хорошо, если вы построите табличку с количеством nan в каждой колонке."
      ]
    },
    {
      "cell_type": "code",
      "metadata": {
        "colab": {
          "base_uri": "https://localhost:8080/",
          "height": 282
        },
        "id": "pw-Brue9EEY3",
        "outputId": "64a86f5d-53be-4499-9f59-f8cd50f0ba07"
      },
      "source": [
        "data = pd.read_csv('./drive/MyDrive/DLS/13/train.csv')\n",
        "data.head()"
      ],
      "execution_count": null,
      "outputs": [
        {
          "output_type": "execute_result",
          "data": {
            "text/html": [
              "<div>\n",
              "<style scoped>\n",
              "    .dataframe tbody tr th:only-of-type {\n",
              "        vertical-align: middle;\n",
              "    }\n",
              "\n",
              "    .dataframe tbody tr th {\n",
              "        vertical-align: top;\n",
              "    }\n",
              "\n",
              "    .dataframe thead th {\n",
              "        text-align: right;\n",
              "    }\n",
              "</style>\n",
              "<table border=\"1\" class=\"dataframe\">\n",
              "  <thead>\n",
              "    <tr style=\"text-align: right;\">\n",
              "      <th></th>\n",
              "      <th>ClientPeriod</th>\n",
              "      <th>MonthlySpending</th>\n",
              "      <th>TotalSpent</th>\n",
              "      <th>Sex</th>\n",
              "      <th>IsSeniorCitizen</th>\n",
              "      <th>HasPartner</th>\n",
              "      <th>HasChild</th>\n",
              "      <th>HasPhoneService</th>\n",
              "      <th>HasMultiplePhoneNumbers</th>\n",
              "      <th>HasInternetService</th>\n",
              "      <th>HasOnlineSecurityService</th>\n",
              "      <th>HasOnlineBackup</th>\n",
              "      <th>HasDeviceProtection</th>\n",
              "      <th>HasTechSupportAccess</th>\n",
              "      <th>HasOnlineTV</th>\n",
              "      <th>HasMovieSubscription</th>\n",
              "      <th>HasContractPhone</th>\n",
              "      <th>IsBillingPaperless</th>\n",
              "      <th>PaymentMethod</th>\n",
              "      <th>Churn</th>\n",
              "    </tr>\n",
              "  </thead>\n",
              "  <tbody>\n",
              "    <tr>\n",
              "      <th>0</th>\n",
              "      <td>55</td>\n",
              "      <td>19.50</td>\n",
              "      <td>1026.35</td>\n",
              "      <td>Male</td>\n",
              "      <td>0</td>\n",
              "      <td>Yes</td>\n",
              "      <td>Yes</td>\n",
              "      <td>Yes</td>\n",
              "      <td>No</td>\n",
              "      <td>No</td>\n",
              "      <td>No internet service</td>\n",
              "      <td>No internet service</td>\n",
              "      <td>No internet service</td>\n",
              "      <td>No internet service</td>\n",
              "      <td>No internet service</td>\n",
              "      <td>No internet service</td>\n",
              "      <td>One year</td>\n",
              "      <td>No</td>\n",
              "      <td>Mailed check</td>\n",
              "      <td>0</td>\n",
              "    </tr>\n",
              "    <tr>\n",
              "      <th>1</th>\n",
              "      <td>72</td>\n",
              "      <td>25.85</td>\n",
              "      <td>1872.2</td>\n",
              "      <td>Male</td>\n",
              "      <td>0</td>\n",
              "      <td>Yes</td>\n",
              "      <td>No</td>\n",
              "      <td>Yes</td>\n",
              "      <td>Yes</td>\n",
              "      <td>No</td>\n",
              "      <td>No internet service</td>\n",
              "      <td>No internet service</td>\n",
              "      <td>No internet service</td>\n",
              "      <td>No internet service</td>\n",
              "      <td>No internet service</td>\n",
              "      <td>No internet service</td>\n",
              "      <td>Two year</td>\n",
              "      <td>No</td>\n",
              "      <td>Credit card (automatic)</td>\n",
              "      <td>0</td>\n",
              "    </tr>\n",
              "    <tr>\n",
              "      <th>2</th>\n",
              "      <td>1</td>\n",
              "      <td>75.90</td>\n",
              "      <td>75.9</td>\n",
              "      <td>Male</td>\n",
              "      <td>0</td>\n",
              "      <td>No</td>\n",
              "      <td>No</td>\n",
              "      <td>Yes</td>\n",
              "      <td>No</td>\n",
              "      <td>Fiber optic</td>\n",
              "      <td>No</td>\n",
              "      <td>No</td>\n",
              "      <td>No</td>\n",
              "      <td>Yes</td>\n",
              "      <td>No</td>\n",
              "      <td>No</td>\n",
              "      <td>Month-to-month</td>\n",
              "      <td>Yes</td>\n",
              "      <td>Electronic check</td>\n",
              "      <td>1</td>\n",
              "    </tr>\n",
              "    <tr>\n",
              "      <th>3</th>\n",
              "      <td>32</td>\n",
              "      <td>79.30</td>\n",
              "      <td>2570</td>\n",
              "      <td>Female</td>\n",
              "      <td>1</td>\n",
              "      <td>Yes</td>\n",
              "      <td>No</td>\n",
              "      <td>Yes</td>\n",
              "      <td>Yes</td>\n",
              "      <td>Fiber optic</td>\n",
              "      <td>No</td>\n",
              "      <td>No</td>\n",
              "      <td>Yes</td>\n",
              "      <td>No</td>\n",
              "      <td>No</td>\n",
              "      <td>No</td>\n",
              "      <td>Month-to-month</td>\n",
              "      <td>No</td>\n",
              "      <td>Mailed check</td>\n",
              "      <td>0</td>\n",
              "    </tr>\n",
              "    <tr>\n",
              "      <th>4</th>\n",
              "      <td>60</td>\n",
              "      <td>115.25</td>\n",
              "      <td>6758.45</td>\n",
              "      <td>Female</td>\n",
              "      <td>0</td>\n",
              "      <td>Yes</td>\n",
              "      <td>Yes</td>\n",
              "      <td>Yes</td>\n",
              "      <td>Yes</td>\n",
              "      <td>Fiber optic</td>\n",
              "      <td>Yes</td>\n",
              "      <td>Yes</td>\n",
              "      <td>Yes</td>\n",
              "      <td>Yes</td>\n",
              "      <td>Yes</td>\n",
              "      <td>Yes</td>\n",
              "      <td>Two year</td>\n",
              "      <td>No</td>\n",
              "      <td>Credit card (automatic)</td>\n",
              "      <td>0</td>\n",
              "    </tr>\n",
              "  </tbody>\n",
              "</table>\n",
              "</div>"
            ],
            "text/plain": [
              "   ClientPeriod  MonthlySpending  ...            PaymentMethod Churn\n",
              "0            55            19.50  ...             Mailed check     0\n",
              "1            72            25.85  ...  Credit card (automatic)     0\n",
              "2             1            75.90  ...         Electronic check     1\n",
              "3            32            79.30  ...             Mailed check     0\n",
              "4            60           115.25  ...  Credit card (automatic)     0\n",
              "\n",
              "[5 rows x 20 columns]"
            ]
          },
          "metadata": {
            "tags": []
          },
          "execution_count": 60
        }
      ]
    },
    {
      "cell_type": "code",
      "metadata": {
        "id": "TFvkyJxzFMT9"
      },
      "source": [
        ""
      ],
      "execution_count": null,
      "outputs": []
    },
    {
      "cell_type": "code",
      "metadata": {
        "id": "KgnkkF5bEEY9"
      },
      "source": [
        "# Для вашего удобства списки с именами разных колонок\n",
        "\n",
        "# Числовые признаки\n",
        "num_cols = [\n",
        "    'ClientPeriod',\n",
        "    'MonthlySpending',\n",
        "    'TotalSpent'\n",
        "]\n",
        "\n",
        "# Категориальные признаки\n",
        "cat_cols = [\n",
        "    'Sex',\n",
        "    'IsSeniorCitizen',\n",
        "    'HasPartner',\n",
        "    'HasChild',\n",
        "    'HasPhoneService',\n",
        "    'HasMultiplePhoneNumbers',\n",
        "    'HasInternetService',\n",
        "    'HasOnlineSecurityService',\n",
        "    'HasOnlineBackup',\n",
        "    'HasDeviceProtection',\n",
        "    'HasTechSupportAccess',\n",
        "    'HasOnlineTV',\n",
        "    'HasMovieSubscription',\n",
        "    'HasContractPhone',\n",
        "    'IsBillingPaperless',\n",
        "    'PaymentMethod'\n",
        "]\n",
        "\n",
        "feature_cols = num_cols + cat_cols\n",
        "target_col = 'Churn'"
      ],
      "execution_count": null,
      "outputs": []
    },
    {
      "cell_type": "code",
      "metadata": {
        "colab": {
          "base_uri": "https://localhost:8080/"
        },
        "id": "tHC6gWabEEZA",
        "outputId": "fa5b439c-dff0-4cc4-91c1-0db6d257bbe2"
      },
      "source": [
        "# YOUR CODE\n",
        "count_nan = data.isna().sum(axis=0)\n",
        "\n",
        "for i in feature_cols:\n",
        "  data[i]=data[i].fillna(data[i].value_counts().argmax())\n",
        "\n",
        "data['TotalSpent']=pd.to_numeric(data['TotalSpent'], errors='coerce')\n",
        "data['TotalSpent'].isna().sum()\n",
        "\n"
      ],
      "execution_count": null,
      "outputs": [
        {
          "output_type": "execute_result",
          "data": {
            "text/plain": [
              "0"
            ]
          },
          "metadata": {
            "tags": []
          },
          "execution_count": 63
        }
      ]
    },
    {
      "cell_type": "markdown",
      "metadata": {
        "id": "dK370bPCEEZD"
      },
      "source": [
        "## Анализ данных (3 балла)\n",
        "\n",
        "1) Для численных призанков постройте гистограмму (*plt.hist(...)*) или boxplot (*plt.boxplot(...)*). Для категориальных посчитайте количество каждого значения для каждого признака. Для каждой колонки надо сделать *data.value_counts()* и построить bar диаграммы *plt.bar(...)* или круговые диаграммы *plt.pie(...)* (хорошо, елси вы сможете это сделать на одном гарфике с помощью *plt.subplots(...)*). \n",
        "\n",
        "2) Посмотрите на распределение целевой переменной и скажите, являются ли классы несбалансированными.\n",
        "\n",
        "3) (Если будет желание) Поиграйте с разными библиотеками для визуализации - *sns*, *pandas_visual_analysis*, etc.\n",
        "\n",
        "Второй пункт очень важен, потому что существуют задачи классификации с несбалансированными классами. Например, это может значить, что в датасете намного больше примеров 0 класса. В таких случаях нужно 1) не использовать accuracy как метрику 2) использовать методы борьбы с imbalanced dataset (обычно если датасет сильно несбалансирован, т.е. класса 1 в 20 раз меньше класса 0)."
      ]
    },
    {
      "cell_type": "code",
      "metadata": {
        "colab": {
          "base_uri": "https://localhost:8080/",
          "height": 281
        },
        "id": "NZkbgFJZEEZE",
        "outputId": "6d943340-f59e-42b6-c84c-8674d77a6237"
      },
      "source": [
        "# YOUR CODE\n",
        "%matplotlib inline\n",
        "data[num_cols].hist()\n",
        "plt.show()\n",
        "#pd.to_numeric(data[num_cols].value).astype('float64') #.plot(kind=\"hist\")\n"
      ],
      "execution_count": null,
      "outputs": [
        {
          "output_type": "display_data",
          "data": {
            "image/png": "[encoded data removed]",
            "text/plain": [
              "<Figure size 432x288 with 4 Axes>"
            ]
          },
          "metadata": {
            "tags": [],
            "needs_background": "light"
          }
        }
      ]
    },
    {
      "cell_type": "markdown",
      "metadata": {
        "id": "zg60u3QDEEZH"
      },
      "source": [
        "(Дополнительно) Если вы нашли какие-то ошибки в данных или выбросы, то можете их убрать. Тут можно поэксперементировать с обработкой данных как угодно, но не за баллы."
      ]
    },
    {
      "cell_type": "code",
      "metadata": {
        "id": "fwfksF1gEEZI"
      },
      "source": [
        "# YOUR CODE\n",
        "# data['TotalSpent']=pd.to_numeric(data['TotalSpent'], errors='coerce')\n",
        "# data['TotalSpent'].isna().sum()"
      ],
      "execution_count": null,
      "outputs": []
    },
    {
      "cell_type": "markdown",
      "metadata": {
        "id": "DviiJd8REEZK"
      },
      "source": [
        "## Применение линейных моделей (3 балла)\n",
        "\n",
        "1) Обработайте данные для того, чтобы к ним можно было применить LogisticRegression. Т.е. отнормируйте числовые признаки, а категориальные закодируйте с помощью one-hot-encoding'а. \n",
        "\n",
        "2) С помощью кроссвалидации или разделения на train/valid выборку протестируйте разные значения гиперпараметра C и выберите лучший (можно тестировать С=100, 10, 1, 0.1, 0.01, 0.001) по метрике ROC-AUC. \n",
        "\n",
        "Если вы разделяете на train/valid, то используйте LogisticRegressionCV. Он сам при вызове .fit() подберет параметр С. (не забудьте передать scroing='roc_auc', чтобы при кроссвалидации сравнивались значения этой метрики, и refit=True, чтобы при потом модель обучилась на всем датасете с лучшим параметром C). \n",
        "\n",
        "\n",
        "(более сложный вариант) Если вы будете использовать кроссвалидацию, то преобразования данных и LogisticRegression нужно соединить в один Pipeline с помощью make_pipeline, как это делалось во втором семинаре. Потом pipeline надо передать в GridSearchCV. Для one-hot-encoding'a можно испльзовать комбинацию LabelEncoder + OneHotEncoder (сначала превращаем строчки в числа, а потом числа првращаем в one-hot вектора.)"
      ]
    },
    {
      "cell_type": "code",
      "metadata": {
        "id": "xHCLDmwqEEZL"
      },
      "source": [
        "from sklearn.linear_model import LogisticRegression, LogisticRegressionCV\n",
        "from sklearn.model_selection import train_test_split, GridSearchCV\n",
        "from sklearn.preprocessing import StandardScaler, RobustScaler, LabelEncoder, OneHotEncoder\n",
        "from sklearn.pipeline import make_pipeline\n",
        "from sklearn.compose import ColumnTransformer, make_column_transformer"
      ],
      "execution_count": null,
      "outputs": []
    },
    {
      "cell_type": "code",
      "metadata": {
        "colab": {
          "base_uri": "https://localhost:8080/",
          "height": 282
        },
        "id": "YhVZEeWvaWPx",
        "outputId": "39a14a67-62c7-40df-d7f0-64b0d5d9870f"
      },
      "source": [
        "data.head()"
      ],
      "execution_count": null,
      "outputs": [
        {
          "output_type": "execute_result",
          "data": {
            "text/html": [
              "<div>\n",
              "<style scoped>\n",
              "    .dataframe tbody tr th:only-of-type {\n",
              "        vertical-align: middle;\n",
              "    }\n",
              "\n",
              "    .dataframe tbody tr th {\n",
              "        vertical-align: top;\n",
              "    }\n",
              "\n",
              "    .dataframe thead th {\n",
              "        text-align: right;\n",
              "    }\n",
              "</style>\n",
              "<table border=\"1\" class=\"dataframe\">\n",
              "  <thead>\n",
              "    <tr style=\"text-align: right;\">\n",
              "      <th></th>\n",
              "      <th>ClientPeriod</th>\n",
              "      <th>MonthlySpending</th>\n",
              "      <th>TotalSpent</th>\n",
              "      <th>Sex</th>\n",
              "      <th>IsSeniorCitizen</th>\n",
              "      <th>HasPartner</th>\n",
              "      <th>HasChild</th>\n",
              "      <th>HasPhoneService</th>\n",
              "      <th>HasMultiplePhoneNumbers</th>\n",
              "      <th>HasInternetService</th>\n",
              "      <th>HasOnlineSecurityService</th>\n",
              "      <th>HasOnlineBackup</th>\n",
              "      <th>HasDeviceProtection</th>\n",
              "      <th>HasTechSupportAccess</th>\n",
              "      <th>HasOnlineTV</th>\n",
              "      <th>HasMovieSubscription</th>\n",
              "      <th>HasContractPhone</th>\n",
              "      <th>IsBillingPaperless</th>\n",
              "      <th>PaymentMethod</th>\n",
              "      <th>Churn</th>\n",
              "    </tr>\n",
              "  </thead>\n",
              "  <tbody>\n",
              "    <tr>\n",
              "      <th>0</th>\n",
              "      <td>55</td>\n",
              "      <td>19.50</td>\n",
              "      <td>1026.35</td>\n",
              "      <td>Male</td>\n",
              "      <td>0</td>\n",
              "      <td>Yes</td>\n",
              "      <td>Yes</td>\n",
              "      <td>Yes</td>\n",
              "      <td>No</td>\n",
              "      <td>No</td>\n",
              "      <td>No internet service</td>\n",
              "      <td>No internet service</td>\n",
              "      <td>No internet service</td>\n",
              "      <td>No internet service</td>\n",
              "      <td>No internet service</td>\n",
              "      <td>No internet service</td>\n",
              "      <td>One year</td>\n",
              "      <td>No</td>\n",
              "      <td>Mailed check</td>\n",
              "      <td>0</td>\n",
              "    </tr>\n",
              "    <tr>\n",
              "      <th>1</th>\n",
              "      <td>72</td>\n",
              "      <td>25.85</td>\n",
              "      <td>1872.20</td>\n",
              "      <td>Male</td>\n",
              "      <td>0</td>\n",
              "      <td>Yes</td>\n",
              "      <td>No</td>\n",
              "      <td>Yes</td>\n",
              "      <td>Yes</td>\n",
              "      <td>No</td>\n",
              "      <td>No internet service</td>\n",
              "      <td>No internet service</td>\n",
              "      <td>No internet service</td>\n",
              "      <td>No internet service</td>\n",
              "      <td>No internet service</td>\n",
              "      <td>No internet service</td>\n",
              "      <td>Two year</td>\n",
              "      <td>No</td>\n",
              "      <td>Credit card (automatic)</td>\n",
              "      <td>0</td>\n",
              "    </tr>\n",
              "    <tr>\n",
              "      <th>2</th>\n",
              "      <td>1</td>\n",
              "      <td>75.90</td>\n",
              "      <td>75.90</td>\n",
              "      <td>Male</td>\n",
              "      <td>0</td>\n",
              "      <td>No</td>\n",
              "      <td>No</td>\n",
              "      <td>Yes</td>\n",
              "      <td>No</td>\n",
              "      <td>Fiber optic</td>\n",
              "      <td>No</td>\n",
              "      <td>No</td>\n",
              "      <td>No</td>\n",
              "      <td>Yes</td>\n",
              "      <td>No</td>\n",
              "      <td>No</td>\n",
              "      <td>Month-to-month</td>\n",
              "      <td>Yes</td>\n",
              "      <td>Electronic check</td>\n",
              "      <td>1</td>\n",
              "    </tr>\n",
              "    <tr>\n",
              "      <th>3</th>\n",
              "      <td>32</td>\n",
              "      <td>79.30</td>\n",
              "      <td>2570.00</td>\n",
              "      <td>Female</td>\n",
              "      <td>1</td>\n",
              "      <td>Yes</td>\n",
              "      <td>No</td>\n",
              "      <td>Yes</td>\n",
              "      <td>Yes</td>\n",
              "      <td>Fiber optic</td>\n",
              "      <td>No</td>\n",
              "      <td>No</td>\n",
              "      <td>Yes</td>\n",
              "      <td>No</td>\n",
              "      <td>No</td>\n",
              "      <td>No</td>\n",
              "      <td>Month-to-month</td>\n",
              "      <td>No</td>\n",
              "      <td>Mailed check</td>\n",
              "      <td>0</td>\n",
              "    </tr>\n",
              "    <tr>\n",
              "      <th>4</th>\n",
              "      <td>60</td>\n",
              "      <td>115.25</td>\n",
              "      <td>6758.45</td>\n",
              "      <td>Female</td>\n",
              "      <td>0</td>\n",
              "      <td>Yes</td>\n",
              "      <td>Yes</td>\n",
              "      <td>Yes</td>\n",
              "      <td>Yes</td>\n",
              "      <td>Fiber optic</td>\n",
              "      <td>Yes</td>\n",
              "      <td>Yes</td>\n",
              "      <td>Yes</td>\n",
              "      <td>Yes</td>\n",
              "      <td>Yes</td>\n",
              "      <td>Yes</td>\n",
              "      <td>Two year</td>\n",
              "      <td>No</td>\n",
              "      <td>Credit card (automatic)</td>\n",
              "      <td>0</td>\n",
              "    </tr>\n",
              "  </tbody>\n",
              "</table>\n",
              "</div>"
            ],
            "text/plain": [
              "   ClientPeriod  MonthlySpending  ...            PaymentMethod Churn\n",
              "0            55            19.50  ...             Mailed check     0\n",
              "1            72            25.85  ...  Credit card (automatic)     0\n",
              "2             1            75.90  ...         Electronic check     1\n",
              "3            32            79.30  ...             Mailed check     0\n",
              "4            60           115.25  ...  Credit card (automatic)     0\n",
              "\n",
              "[5 rows x 20 columns]"
            ]
          },
          "metadata": {
            "tags": []
          },
          "execution_count": 66
        }
      ]
    },
    {
      "cell_type": "code",
      "metadata": {
        "colab": {
          "base_uri": "https://localhost:8080/",
          "height": 402
        },
        "id": "P2Yv3uYtEEZO",
        "outputId": "65169058-4def-477f-ea6c-6d364f583d52"
      },
      "source": [
        "# YOUR CODE\n",
        "normalized_num_data = data[num_cols]\n",
        "pd.options.mode.chained_assignment = None\n",
        "for (i,j) in normalized_num_data.iteritems():\n",
        "  normalized_num_data[i] = (j-j.mean())/j.std()\n",
        "normalized_num_data"
      ],
      "execution_count": null,
      "outputs": [
        {
          "output_type": "execute_result",
          "data": {
            "text/html": [
              "<div>\n",
              "<style scoped>\n",
              "    .dataframe tbody tr th:only-of-type {\n",
              "        vertical-align: middle;\n",
              "    }\n",
              "\n",
              "    .dataframe tbody tr th {\n",
              "        vertical-align: top;\n",
              "    }\n",
              "\n",
              "    .dataframe thead th {\n",
              "        text-align: right;\n",
              "    }\n",
              "</style>\n",
              "<table border=\"1\" class=\"dataframe\">\n",
              "  <thead>\n",
              "    <tr style=\"text-align: right;\">\n",
              "      <th></th>\n",
              "      <th>ClientPeriod</th>\n",
              "      <th>MonthlySpending</th>\n",
              "      <th>TotalSpent</th>\n",
              "    </tr>\n",
              "  </thead>\n",
              "  <tbody>\n",
              "    <tr>\n",
              "      <th>0</th>\n",
              "      <td>0.920680</td>\n",
              "      <td>-1.505304</td>\n",
              "      <td>-0.555799</td>\n",
              "    </tr>\n",
              "    <tr>\n",
              "      <th>1</th>\n",
              "      <td>1.613135</td>\n",
              "      <td>-1.294875</td>\n",
              "      <td>-0.183022</td>\n",
              "    </tr>\n",
              "    <tr>\n",
              "      <th>2</th>\n",
              "      <td>-1.278884</td>\n",
              "      <td>0.363702</td>\n",
              "      <td>-0.974675</td>\n",
              "    </tr>\n",
              "    <tr>\n",
              "      <th>3</th>\n",
              "      <td>-0.016171</td>\n",
              "      <td>0.476373</td>\n",
              "      <td>0.124508</td>\n",
              "    </tr>\n",
              "    <tr>\n",
              "      <th>4</th>\n",
              "      <td>1.124343</td>\n",
              "      <td>1.667699</td>\n",
              "      <td>1.970413</td>\n",
              "    </tr>\n",
              "    <tr>\n",
              "      <th>...</th>\n",
              "      <td>...</td>\n",
              "      <td>...</td>\n",
              "      <td>...</td>\n",
              "    </tr>\n",
              "    <tr>\n",
              "      <th>5277</th>\n",
              "      <td>-1.197418</td>\n",
              "      <td>-1.144095</td>\n",
              "      <td>-0.971921</td>\n",
              "    </tr>\n",
              "    <tr>\n",
              "      <th>5278</th>\n",
              "      <td>0.717017</td>\n",
              "      <td>-0.678501</td>\n",
              "      <td>-0.043647</td>\n",
              "    </tr>\n",
              "    <tr>\n",
              "      <th>5279</th>\n",
              "      <td>-1.278884</td>\n",
              "      <td>-0.327234</td>\n",
              "      <td>-0.983864</td>\n",
              "    </tr>\n",
              "    <tr>\n",
              "      <th>5280</th>\n",
              "      <td>-0.138369</td>\n",
              "      <td>0.367016</td>\n",
              "      <td>-0.031835</td>\n",
              "    </tr>\n",
              "    <tr>\n",
              "      <th>5281</th>\n",
              "      <td>-0.545696</td>\n",
              "      <td>0.363702</td>\n",
              "      <td>-0.401880</td>\n",
              "    </tr>\n",
              "  </tbody>\n",
              "</table>\n",
              "<p>5282 rows × 3 columns</p>\n",
              "</div>"
            ],
            "text/plain": [
              "      ClientPeriod  MonthlySpending  TotalSpent\n",
              "0         0.920680        -1.505304   -0.555799\n",
              "1         1.613135        -1.294875   -0.183022\n",
              "2        -1.278884         0.363702   -0.974675\n",
              "3        -0.016171         0.476373    0.124508\n",
              "4         1.124343         1.667699    1.970413\n",
              "...            ...              ...         ...\n",
              "5277     -1.197418        -1.144095   -0.971921\n",
              "5278      0.717017        -0.678501   -0.043647\n",
              "5279     -1.278884        -0.327234   -0.983864\n",
              "5280     -0.138369         0.367016   -0.031835\n",
              "5281     -0.545696         0.363702   -0.401880\n",
              "\n",
              "[5282 rows x 3 columns]"
            ]
          },
          "metadata": {
            "tags": []
          },
          "execution_count": 68
        }
      ]
    },
    {
      "cell_type": "code",
      "metadata": {
        "colab": {
          "base_uri": "https://localhost:8080/"
        },
        "id": "dEBRp0Uzhjei",
        "outputId": "b66a57ea-2a22-4b4c-f1d4-aa30245a2141"
      },
      "source": [
        "dummy_features = pd.get_dummies(data[cat_cols])\n",
        "\n",
        "X = pd.concat([data[num_cols], dummy_features], axis=1)\n",
        "y = data[target_col]\n",
        "\n",
        "X_train, X_test, y_train, y_test = train_test_split(X.values, y.values, \n",
        "                                                    train_size=0.8,\n",
        "                                                    random_state=42)\n",
        "logregrCV = LogisticRegressionCV(scoring='roc_auc', refit=True)\n",
        "print(X_train)\n",
        "print(y_train)\n",
        "logregrCV.fit(X_train, y_train)\n",
        "y_pred = logregrCV.predict_proba(X_test)\n",
        "print(roc_auc_score(y_test, y_pred[:,1]))\n",
        "# num_features = []\n",
        "# for i in num_cols:\n",
        "#     position = data.columns.get_loc(i)\n",
        "#     num_features.append(position)\n",
        "# cat_features = []\n",
        "# for i in cat_cols:\n",
        "#     position = data.columns.get_loc(i)\n",
        "#     cat_features.append(position)\n",
        "      \n",
        "# col_transformer = make_column_transformer(\n",
        "#     (num_cols, StandardScaler()),\n",
        "#     (cat_cols, OneHotEncoder(sparse=False))\n",
        "# )\n",
        "# col_transformer.fit_transform(X_train).shape\t\n",
        "\n",
        "\n",
        "# onehotenc = OneHotEncoder()\n",
        "# onehotenc.fit(data[cat_cols])\n",
        "# labelenc= LabelEncoder()\n",
        "# labelenc.fit(cat_cols)\n",
        "# labelenc_labels = labelenc.transform(cat_cols)\n",
        "# onehot_labels = onehotenc.transform(data[cat_cols]).toarray()\n",
        "# print(onehot_labels)\n",
        "# print(labelenc_labels)"
      ],
      "execution_count": null,
      "outputs": [
        {
          "output_type": "stream",
          "text": [
            "[[3.10000e+01 7.35500e+01 2.09465e+03 ... 1.00000e+00 0.00000e+00\n",
            "  0.00000e+00]\n",
            " [5.90000e+01 1.00050e+02 6.03485e+03 ... 0.00000e+00 0.00000e+00\n",
            "  1.00000e+00]\n",
            " [6.00000e+01 9.90000e+01 6.01790e+03 ... 0.00000e+00 1.00000e+00\n",
            "  0.00000e+00]\n",
            " ...\n",
            " [5.00000e+01 2.05500e+01 1.07025e+03 ... 1.00000e+00 0.00000e+00\n",
            "  0.00000e+00]\n",
            " [8.00000e+00 8.45000e+01 6.62650e+02 ... 0.00000e+00 0.00000e+00\n",
            "  0.00000e+00]\n",
            " [6.80000e+01 5.44500e+01 3.67495e+03 ... 1.00000e+00 0.00000e+00\n",
            "  0.00000e+00]]\n",
            "[0 0 0 ... 0 1 0]\n"
          ],
          "name": "stdout"
        },
        {
          "output_type": "stream",
          "text": [
            "/usr/local/lib/python3.6/dist-packages/sklearn/linear_model/_logistic.py:940: ConvergenceWarning: lbfgs failed to converge (status=1):\n",
            "STOP: TOTAL NO. of ITERATIONS REACHED LIMIT.\n",
            "\n",
            "Increase the number of iterations (max_iter) or scale the data as shown in:\n",
            "    https://scikit-learn.org/stable/modules/preprocessing.html\n",
            "Please also refer to the documentation for alternative solver options:\n",
            "    https://scikit-learn.org/stable/modules/linear_model.html#logistic-regression\n",
            "  extra_warning_msg=_LOGISTIC_SOLVER_CONVERGENCE_MSG)\n",
            "/usr/local/lib/python3.6/dist-packages/sklearn/linear_model/_logistic.py:940: ConvergenceWarning: lbfgs failed to converge (status=1):\n",
            "STOP: TOTAL NO. of ITERATIONS REACHED LIMIT.\n",
            "\n",
            "Increase the number of iterations (max_iter) or scale the data as shown in:\n",
            "    https://scikit-learn.org/stable/modules/preprocessing.html\n",
            "Please also refer to the documentation for alternative solver options:\n",
            "    https://scikit-learn.org/stable/modules/linear_model.html#logistic-regression\n",
            "  extra_warning_msg=_LOGISTIC_SOLVER_CONVERGENCE_MSG)\n",
            "/usr/local/lib/python3.6/dist-packages/sklearn/linear_model/_logistic.py:940: ConvergenceWarning: lbfgs failed to converge (status=1):\n",
            "STOP: TOTAL NO. of ITERATIONS REACHED LIMIT.\n",
            "\n",
            "Increase the number of iterations (max_iter) or scale the data as shown in:\n",
            "    https://scikit-learn.org/stable/modules/preprocessing.html\n",
            "Please also refer to the documentation for alternative solver options:\n",
            "    https://scikit-learn.org/stable/modules/linear_model.html#logistic-regression\n",
            "  extra_warning_msg=_LOGISTIC_SOLVER_CONVERGENCE_MSG)\n",
            "/usr/local/lib/python3.6/dist-packages/sklearn/linear_model/_logistic.py:940: ConvergenceWarning: lbfgs failed to converge (status=1):\n",
            "STOP: TOTAL NO. of ITERATIONS REACHED LIMIT.\n",
            "\n",
            "Increase the number of iterations (max_iter) or scale the data as shown in:\n",
            "    https://scikit-learn.org/stable/modules/preprocessing.html\n",
            "Please also refer to the documentation for alternative solver options:\n",
            "    https://scikit-learn.org/stable/modules/linear_model.html#logistic-regression\n",
            "  extra_warning_msg=_LOGISTIC_SOLVER_CONVERGENCE_MSG)\n"
          ],
          "name": "stderr"
        },
        {
          "output_type": "stream",
          "text": [
            "0.8297854655941485\n"
          ],
          "name": "stdout"
        }
      ]
    },
    {
      "cell_type": "code",
      "metadata": {
        "colab": {
          "base_uri": "https://localhost:8080/",
          "height": 438
        },
        "id": "ffoRXAX7lJts",
        "outputId": "58c4f55e-6d39-460c-8a07-b384be0c438c"
      },
      "source": [
        "# class MyOneHotEncoder(OneHotEncoder):\n",
        "#   def fit_transform(self, y, *args, **kwargs):\n",
        "#     return super().fit_transform(y).reshape(-1, 1)\n",
        "\n",
        "#   def transform(self, y, *args, **kwargs):\n",
        "#     return super().transform(y).reshape(-1, 1)\n",
        "# cls = make_pipeline(\n",
        "#     LogisticRegression(),\n",
        "#     (num_cols, StandardScaler()),\n",
        "#     (cat_cols, OneHotEncoder())\n",
        "# )"
      ],
      "execution_count": null,
      "outputs": [
        {
          "output_type": "error",
          "ename": "TypeError",
          "evalue": "ignored",
          "traceback": [
            "\u001b[0;31m---------------------------------------------------------------------------\u001b[0m",
            "\u001b[0;31mTypeError\u001b[0m                                 Traceback (most recent call last)",
            "\u001b[0;32m<ipython-input-23-23c924861a1e>\u001b[0m in \u001b[0;36m<module>\u001b[0;34m()\u001b[0m\n\u001b[1;32m      8\u001b[0m     \u001b[0mLogisticRegression\u001b[0m\u001b[0;34m(\u001b[0m\u001b[0;34m)\u001b[0m\u001b[0;34m,\u001b[0m\u001b[0;34m\u001b[0m\u001b[0;34m\u001b[0m\u001b[0m\n\u001b[1;32m      9\u001b[0m     \u001b[0;34m(\u001b[0m\u001b[0mnum_cols\u001b[0m\u001b[0;34m,\u001b[0m \u001b[0mStandardScaler\u001b[0m\u001b[0;34m(\u001b[0m\u001b[0;34m)\u001b[0m\u001b[0;34m)\u001b[0m\u001b[0;34m,\u001b[0m\u001b[0;34m\u001b[0m\u001b[0;34m\u001b[0m\u001b[0m\n\u001b[0;32m---> 10\u001b[0;31m     \u001b[0;34m(\u001b[0m\u001b[0mcat_cols\u001b[0m\u001b[0;34m,\u001b[0m \u001b[0mOneHotEncoder\u001b[0m\u001b[0;34m(\u001b[0m\u001b[0;34m)\u001b[0m\u001b[0;34m)\u001b[0m\u001b[0;34m\u001b[0m\u001b[0;34m\u001b[0m\u001b[0m\n\u001b[0m\u001b[1;32m     11\u001b[0m )\n",
            "\u001b[0;32m/usr/local/lib/python3.6/dist-packages/sklearn/pipeline.py\u001b[0m in \u001b[0;36mmake_pipeline\u001b[0;34m(*steps, **kwargs)\u001b[0m\n\u001b[1;32m    701\u001b[0m         raise TypeError('Unknown keyword arguments: \"{}\"'\n\u001b[1;32m    702\u001b[0m                         .format(list(kwargs.keys())[0]))\n\u001b[0;32m--> 703\u001b[0;31m     \u001b[0;32mreturn\u001b[0m \u001b[0mPipeline\u001b[0m\u001b[0;34m(\u001b[0m\u001b[0m_name_estimators\u001b[0m\u001b[0;34m(\u001b[0m\u001b[0msteps\u001b[0m\u001b[0;34m)\u001b[0m\u001b[0;34m,\u001b[0m \u001b[0mmemory\u001b[0m\u001b[0;34m=\u001b[0m\u001b[0mmemory\u001b[0m\u001b[0;34m,\u001b[0m \u001b[0mverbose\u001b[0m\u001b[0;34m=\u001b[0m\u001b[0mverbose\u001b[0m\u001b[0;34m)\u001b[0m\u001b[0;34m\u001b[0m\u001b[0;34m\u001b[0m\u001b[0m\n\u001b[0m\u001b[1;32m    704\u001b[0m \u001b[0;34m\u001b[0m\u001b[0m\n\u001b[1;32m    705\u001b[0m \u001b[0;34m\u001b[0m\u001b[0m\n",
            "\u001b[0;32m/usr/local/lib/python3.6/dist-packages/sklearn/pipeline.py\u001b[0m in \u001b[0;36m__init__\u001b[0;34m(self, steps, memory, verbose)\u001b[0m\n\u001b[1;32m    134\u001b[0m         \u001b[0mself\u001b[0m\u001b[0;34m.\u001b[0m\u001b[0mmemory\u001b[0m \u001b[0;34m=\u001b[0m \u001b[0mmemory\u001b[0m\u001b[0;34m\u001b[0m\u001b[0;34m\u001b[0m\u001b[0m\n\u001b[1;32m    135\u001b[0m         \u001b[0mself\u001b[0m\u001b[0;34m.\u001b[0m\u001b[0mverbose\u001b[0m \u001b[0;34m=\u001b[0m \u001b[0mverbose\u001b[0m\u001b[0;34m\u001b[0m\u001b[0;34m\u001b[0m\u001b[0m\n\u001b[0;32m--> 136\u001b[0;31m         \u001b[0mself\u001b[0m\u001b[0;34m.\u001b[0m\u001b[0m_validate_steps\u001b[0m\u001b[0;34m(\u001b[0m\u001b[0;34m)\u001b[0m\u001b[0;34m\u001b[0m\u001b[0;34m\u001b[0m\u001b[0m\n\u001b[0m\u001b[1;32m    137\u001b[0m \u001b[0;34m\u001b[0m\u001b[0m\n\u001b[1;32m    138\u001b[0m     \u001b[0;32mdef\u001b[0m \u001b[0mget_params\u001b[0m\u001b[0;34m(\u001b[0m\u001b[0mself\u001b[0m\u001b[0;34m,\u001b[0m \u001b[0mdeep\u001b[0m\u001b[0;34m=\u001b[0m\u001b[0;32mTrue\u001b[0m\u001b[0;34m)\u001b[0m\u001b[0;34m:\u001b[0m\u001b[0;34m\u001b[0m\u001b[0;34m\u001b[0m\u001b[0m\n",
            "\u001b[0;32m/usr/local/lib/python3.6/dist-packages/sklearn/pipeline.py\u001b[0m in \u001b[0;36m_validate_steps\u001b[0;34m(self)\u001b[0m\n\u001b[1;32m    182\u001b[0m                                 \u001b[0;34m\"transformers and implement fit and transform \"\u001b[0m\u001b[0;34m\u001b[0m\u001b[0;34m\u001b[0m\u001b[0m\n\u001b[1;32m    183\u001b[0m                                 \u001b[0;34m\"or be the string 'passthrough' \"\u001b[0m\u001b[0;34m\u001b[0m\u001b[0;34m\u001b[0m\u001b[0m\n\u001b[0;32m--> 184\u001b[0;31m                                 \"'%s' (type %s) doesn't\" % (t, type(t)))\n\u001b[0m\u001b[1;32m    185\u001b[0m \u001b[0;34m\u001b[0m\u001b[0m\n\u001b[1;32m    186\u001b[0m         \u001b[0;31m# We allow last estimator to be None as an identity transformation\u001b[0m\u001b[0;34m\u001b[0m\u001b[0;34m\u001b[0m\u001b[0;34m\u001b[0m\u001b[0m\n",
            "\u001b[0;31mTypeError\u001b[0m: All intermediate steps should be transformers and implement fit and transform or be the string 'passthrough' 'LogisticRegression(C=1.0, class_weight=None, dual=False, fit_intercept=True,\n                   intercept_scaling=1, l1_ratio=None, max_iter=100,\n                   multi_class='auto', n_jobs=None, penalty='l2',\n                   random_state=None, solver='lbfgs', tol=0.0001, verbose=0,\n                   warm_start=False)' (type <class 'sklearn.linear_model._logistic.LogisticRegression'>) doesn't"
          ]
        }
      ]
    },
    {
      "cell_type": "markdown",
      "metadata": {
        "id": "uVahy6JKEEZQ"
      },
      "source": [
        "Выпишите какое лучшее качество и с какими параметрами вам удалось получить"
      ]
    },
    {
      "cell_type": "markdown",
      "metadata": {
        "id": "36729TOQEEZR"
      },
      "source": [
        ""
      ]
    },
    {
      "cell_type": "markdown",
      "metadata": {
        "id": "BlTeVy7fEEZR"
      },
      "source": [
        "## Применение градиентного бустинга (2 балла)\n",
        "\n",
        "Если вы хотите получить баллы за точный ответ, то стоит попробовать градиентный бустинг. Часто градиентный бустинг с дефолтными параметрами даст вам 80% результата за 0% усилий.\n",
        "\n",
        "Мы будем использовать catboost, поэтому нам не надо кодировать категориальные признаки. catboost сделает это сам (в .fit() надо передать cat_features=cat_cols). А численные признаки нормировать для моделей, основанных на деревьях не нужно.\n",
        "\n",
        "1) Разделите выборку на train/valid. Протестируйте catboost cо стандартными параметрами.\n",
        "\n",
        "2) Протестируйте разные занчения параметроа количества деревьев и learning_rate'а и выберите лучшую по метрике ROC-AUC комбинацию. \n",
        "\n",
        "(Дополнительно) Есть некоторые сложности с тем, чтобы использовать CatBoostClassifier вместе с GridSearchCV, поэтому мы не просим использовать кроссвалидацию. Но можете попробовать)"
      ]
    },
    {
      "cell_type": "code",
      "metadata": {
        "colab": {
          "base_uri": "https://localhost:8080/"
        },
        "id": "rBB2fgJPoTWo",
        "outputId": "2b2bc461-b196-48ba-eb93-5b3b2f107bc5"
      },
      "source": [
        "!pip install catboost\n",
        "import catboost"
      ],
      "execution_count": null,
      "outputs": [
        {
          "output_type": "stream",
          "text": [
            "Requirement already satisfied: catboost in /usr/local/lib/python3.6/dist-packages (0.24.3)\n",
            "Requirement already satisfied: plotly in /usr/local/lib/python3.6/dist-packages (from catboost) (4.4.1)\n",
            "Requirement already satisfied: pandas>=0.24.0 in /usr/local/lib/python3.6/dist-packages (from catboost) (1.1.4)\n",
            "Requirement already satisfied: matplotlib in /usr/local/lib/python3.6/dist-packages (from catboost) (3.2.2)\n",
            "Requirement already satisfied: scipy in /usr/local/lib/python3.6/dist-packages (from catboost) (1.4.1)\n",
            "Requirement already satisfied: graphviz in /usr/local/lib/python3.6/dist-packages (from catboost) (0.10.1)\n",
            "Requirement already satisfied: numpy>=1.16.0 in /usr/local/lib/python3.6/dist-packages (from catboost) (1.18.5)\n",
            "Requirement already satisfied: six in /usr/local/lib/python3.6/dist-packages (from catboost) (1.15.0)\n",
            "Requirement already satisfied: retrying>=1.3.3 in /usr/local/lib/python3.6/dist-packages (from plotly->catboost) (1.3.3)\n",
            "Requirement already satisfied: pytz>=2017.2 in /usr/local/lib/python3.6/dist-packages (from pandas>=0.24.0->catboost) (2018.9)\n",
            "Requirement already satisfied: python-dateutil>=2.7.3 in /usr/local/lib/python3.6/dist-packages (from pandas>=0.24.0->catboost) (2.8.1)\n",
            "Requirement already satisfied: kiwisolver>=1.0.1 in /usr/local/lib/python3.6/dist-packages (from matplotlib->catboost) (1.3.1)\n",
            "Requirement already satisfied: cycler>=0.10 in /usr/local/lib/python3.6/dist-packages (from matplotlib->catboost) (0.10.0)\n",
            "Requirement already satisfied: pyparsing!=2.0.4,!=2.1.2,!=2.1.6,>=2.0.1 in /usr/local/lib/python3.6/dist-packages (from matplotlib->catboost) (2.4.7)\n"
          ],
          "name": "stdout"
        }
      ]
    },
    {
      "cell_type": "code",
      "metadata": {
        "id": "Fioxxlp-EEZS",
        "colab": {
          "base_uri": "https://localhost:8080/"
        },
        "outputId": "19423453-93ce-4b23-e1d2-727623e149c1"
      },
      "source": [
        "# YOUR CODE\n",
        "cat_features_num = []\n",
        "for i in cat_cols:\n",
        "    position = data.columns.get_loc(i)\n",
        "    cat_features_num.append(position)\n",
        "\n",
        "X_origin = data[feature_cols]\n",
        "y = data[target_col]\n",
        "X_train_origin, X_test_origin, y_train_origin, y_test_origin = train_test_split(X_origin.values, y.values, \n",
        "                                                       train_size=0.8, \n",
        "                                                       random_state=42)\n",
        "boosting_model = catboost.CatBoostClassifier(n_estimators=300, \n",
        "                                             cat_features=cat_features_num)\n",
        "\n",
        "boosting_model.fit(X_train_origin, y_train_origin)\n",
        "\n",
        "y_train_predicted = boosting_model.predict_proba(X_train_origin)[:, 1]\n",
        "y_test_predicted = boosting_model.predict_proba(X_test_origin)[:, 1]\n",
        "\n",
        "train_auc = roc_auc_score(y_train_origin, y_train_predicted)\n",
        "test_auc = roc_auc_score(y_test_origin, y_test_predicted)\n",
        "\n",
        "print(train_auc)\n",
        "print(test_auc)\n"
      ],
      "execution_count": null,
      "outputs": [
        {
          "output_type": "stream",
          "text": [
            "Learning rate set to 0.057497\n",
            "0:\tlearn: 0.6543682\ttotal: 14.7ms\tremaining: 4.4s\n",
            "1:\tlearn: 0.6229757\ttotal: 27.3ms\tremaining: 4.06s\n",
            "2:\tlearn: 0.5934546\ttotal: 40.8ms\tremaining: 4.04s\n",
            "3:\tlearn: 0.5687275\ttotal: 54ms\tremaining: 3.99s\n",
            "4:\tlearn: 0.5483676\ttotal: 69.3ms\tremaining: 4.09s\n",
            "5:\tlearn: 0.5309979\ttotal: 83.6ms\tremaining: 4.1s\n",
            "6:\tlearn: 0.5159914\ttotal: 95.1ms\tremaining: 3.98s\n",
            "7:\tlearn: 0.5051588\ttotal: 101ms\tremaining: 3.69s\n",
            "8:\tlearn: 0.4928039\ttotal: 116ms\tremaining: 3.75s\n",
            "9:\tlearn: 0.4822340\ttotal: 132ms\tremaining: 3.81s\n",
            "10:\tlearn: 0.4741872\ttotal: 141ms\tremaining: 3.71s\n",
            "11:\tlearn: 0.4666144\ttotal: 156ms\tremaining: 3.74s\n",
            "12:\tlearn: 0.4601273\ttotal: 171ms\tremaining: 3.77s\n",
            "13:\tlearn: 0.4532558\ttotal: 187ms\tremaining: 3.81s\n",
            "14:\tlearn: 0.4472510\ttotal: 204ms\tremaining: 3.87s\n",
            "15:\tlearn: 0.4431511\ttotal: 220ms\tremaining: 3.9s\n",
            "16:\tlearn: 0.4378468\ttotal: 234ms\tremaining: 3.9s\n",
            "17:\tlearn: 0.4333277\ttotal: 248ms\tremaining: 3.89s\n",
            "18:\tlearn: 0.4294944\ttotal: 261ms\tremaining: 3.85s\n",
            "19:\tlearn: 0.4259801\ttotal: 276ms\tremaining: 3.86s\n",
            "20:\tlearn: 0.4234475\ttotal: 289ms\tremaining: 3.85s\n",
            "21:\tlearn: 0.4222842\ttotal: 293ms\tremaining: 3.71s\n",
            "22:\tlearn: 0.4196310\ttotal: 307ms\tremaining: 3.7s\n",
            "23:\tlearn: 0.4173141\ttotal: 322ms\tremaining: 3.7s\n",
            "24:\tlearn: 0.4165613\ttotal: 326ms\tremaining: 3.58s\n",
            "25:\tlearn: 0.4144783\ttotal: 341ms\tremaining: 3.59s\n",
            "26:\tlearn: 0.4128364\ttotal: 354ms\tremaining: 3.58s\n",
            "27:\tlearn: 0.4115916\ttotal: 366ms\tremaining: 3.55s\n",
            "28:\tlearn: 0.4106951\ttotal: 377ms\tremaining: 3.52s\n",
            "29:\tlearn: 0.4087452\ttotal: 391ms\tremaining: 3.52s\n",
            "30:\tlearn: 0.4071211\ttotal: 419ms\tremaining: 3.63s\n",
            "31:\tlearn: 0.4060425\ttotal: 433ms\tremaining: 3.63s\n",
            "32:\tlearn: 0.4057891\ttotal: 439ms\tremaining: 3.55s\n",
            "33:\tlearn: 0.4048457\ttotal: 452ms\tremaining: 3.54s\n",
            "34:\tlearn: 0.4038827\ttotal: 465ms\tremaining: 3.52s\n",
            "35:\tlearn: 0.4026490\ttotal: 480ms\tremaining: 3.52s\n",
            "36:\tlearn: 0.4017255\ttotal: 494ms\tremaining: 3.51s\n",
            "37:\tlearn: 0.4011375\ttotal: 508ms\tremaining: 3.5s\n",
            "38:\tlearn: 0.4003980\ttotal: 521ms\tremaining: 3.49s\n",
            "39:\tlearn: 0.4000217\ttotal: 530ms\tremaining: 3.44s\n",
            "40:\tlearn: 0.3992062\ttotal: 545ms\tremaining: 3.44s\n",
            "41:\tlearn: 0.3983845\ttotal: 561ms\tremaining: 3.45s\n",
            "42:\tlearn: 0.3972986\ttotal: 577ms\tremaining: 3.45s\n",
            "43:\tlearn: 0.3964624\ttotal: 591ms\tremaining: 3.44s\n",
            "44:\tlearn: 0.3954588\ttotal: 603ms\tremaining: 3.42s\n",
            "45:\tlearn: 0.3948338\ttotal: 618ms\tremaining: 3.41s\n",
            "46:\tlearn: 0.3945848\ttotal: 629ms\tremaining: 3.38s\n",
            "47:\tlearn: 0.3938264\ttotal: 643ms\tremaining: 3.37s\n",
            "48:\tlearn: 0.3933837\ttotal: 658ms\tremaining: 3.37s\n",
            "49:\tlearn: 0.3928561\ttotal: 671ms\tremaining: 3.35s\n",
            "50:\tlearn: 0.3916957\ttotal: 686ms\tremaining: 3.35s\n",
            "51:\tlearn: 0.3911607\ttotal: 701ms\tremaining: 3.34s\n",
            "52:\tlearn: 0.3899345\ttotal: 717ms\tremaining: 3.34s\n",
            "53:\tlearn: 0.3896708\ttotal: 733ms\tremaining: 3.34s\n",
            "54:\tlearn: 0.3896380\ttotal: 737ms\tremaining: 3.29s\n",
            "55:\tlearn: 0.3889828\ttotal: 753ms\tremaining: 3.28s\n",
            "56:\tlearn: 0.3887659\ttotal: 766ms\tremaining: 3.27s\n",
            "57:\tlearn: 0.3881854\ttotal: 781ms\tremaining: 3.26s\n",
            "58:\tlearn: 0.3881585\ttotal: 785ms\tremaining: 3.21s\n",
            "59:\tlearn: 0.3872665\ttotal: 798ms\tremaining: 3.19s\n",
            "60:\tlearn: 0.3872338\ttotal: 802ms\tremaining: 3.14s\n",
            "61:\tlearn: 0.3862008\ttotal: 823ms\tremaining: 3.16s\n",
            "62:\tlearn: 0.3853473\ttotal: 838ms\tremaining: 3.15s\n",
            "63:\tlearn: 0.3852831\ttotal: 843ms\tremaining: 3.11s\n",
            "64:\tlearn: 0.3847695\ttotal: 857ms\tremaining: 3.1s\n",
            "65:\tlearn: 0.3847694\ttotal: 862ms\tremaining: 3.05s\n",
            "66:\tlearn: 0.3846680\ttotal: 870ms\tremaining: 3.03s\n",
            "67:\tlearn: 0.3844899\ttotal: 885ms\tremaining: 3.02s\n",
            "68:\tlearn: 0.3836835\ttotal: 900ms\tremaining: 3.01s\n",
            "69:\tlearn: 0.3832852\ttotal: 915ms\tremaining: 3.01s\n",
            "70:\tlearn: 0.3831190\ttotal: 932ms\tremaining: 3.01s\n",
            "71:\tlearn: 0.3828922\ttotal: 943ms\tremaining: 2.99s\n",
            "72:\tlearn: 0.3828921\ttotal: 952ms\tremaining: 2.96s\n",
            "73:\tlearn: 0.3827858\ttotal: 966ms\tremaining: 2.95s\n",
            "74:\tlearn: 0.3822550\ttotal: 981ms\tremaining: 2.94s\n",
            "75:\tlearn: 0.3818540\ttotal: 997ms\tremaining: 2.94s\n",
            "76:\tlearn: 0.3813600\ttotal: 1.01s\tremaining: 2.94s\n",
            "77:\tlearn: 0.3810910\ttotal: 1.03s\tremaining: 2.94s\n",
            "78:\tlearn: 0.3807932\ttotal: 1.05s\tremaining: 2.94s\n",
            "79:\tlearn: 0.3807413\ttotal: 1.06s\tremaining: 2.93s\n",
            "80:\tlearn: 0.3803355\ttotal: 1.08s\tremaining: 2.92s\n",
            "81:\tlearn: 0.3802036\ttotal: 1.09s\tremaining: 2.91s\n",
            "82:\tlearn: 0.3801996\ttotal: 1.1s\tremaining: 2.88s\n",
            "83:\tlearn: 0.3793385\ttotal: 1.11s\tremaining: 2.87s\n",
            "84:\tlearn: 0.3790684\ttotal: 1.13s\tremaining: 2.86s\n",
            "85:\tlearn: 0.3790315\ttotal: 1.14s\tremaining: 2.83s\n",
            "86:\tlearn: 0.3790277\ttotal: 1.14s\tremaining: 2.79s\n",
            "87:\tlearn: 0.3789935\ttotal: 1.15s\tremaining: 2.77s\n",
            "88:\tlearn: 0.3785145\ttotal: 1.17s\tremaining: 2.76s\n",
            "89:\tlearn: 0.3784832\ttotal: 1.17s\tremaining: 2.73s\n",
            "90:\tlearn: 0.3784832\ttotal: 1.17s\tremaining: 2.69s\n",
            "91:\tlearn: 0.3784832\ttotal: 1.18s\tremaining: 2.66s\n",
            "92:\tlearn: 0.3782177\ttotal: 1.19s\tremaining: 2.65s\n",
            "93:\tlearn: 0.3781886\ttotal: 1.2s\tremaining: 2.62s\n",
            "94:\tlearn: 0.3778980\ttotal: 1.21s\tremaining: 2.62s\n",
            "95:\tlearn: 0.3778395\ttotal: 1.22s\tremaining: 2.6s\n",
            "96:\tlearn: 0.3774000\ttotal: 1.25s\tremaining: 2.61s\n",
            "97:\tlearn: 0.3773531\ttotal: 1.25s\tremaining: 2.59s\n",
            "98:\tlearn: 0.3771444\ttotal: 1.27s\tremaining: 2.58s\n",
            "99:\tlearn: 0.3766094\ttotal: 1.28s\tremaining: 2.57s\n",
            "100:\tlearn: 0.3763959\ttotal: 1.3s\tremaining: 2.56s\n",
            "101:\tlearn: 0.3763529\ttotal: 1.31s\tremaining: 2.54s\n",
            "102:\tlearn: 0.3762501\ttotal: 1.32s\tremaining: 2.53s\n",
            "103:\tlearn: 0.3761905\ttotal: 1.33s\tremaining: 2.52s\n",
            "104:\tlearn: 0.3756829\ttotal: 1.35s\tremaining: 2.51s\n",
            "105:\tlearn: 0.3754714\ttotal: 1.36s\tremaining: 2.5s\n",
            "106:\tlearn: 0.3753871\ttotal: 1.38s\tremaining: 2.49s\n",
            "107:\tlearn: 0.3752712\ttotal: 1.4s\tremaining: 2.49s\n",
            "108:\tlearn: 0.3752472\ttotal: 1.41s\tremaining: 2.47s\n",
            "109:\tlearn: 0.3751088\ttotal: 1.43s\tremaining: 2.46s\n",
            "110:\tlearn: 0.3746987\ttotal: 1.44s\tremaining: 2.46s\n",
            "111:\tlearn: 0.3746111\ttotal: 1.45s\tremaining: 2.44s\n",
            "112:\tlearn: 0.3746111\ttotal: 1.45s\tremaining: 2.41s\n",
            "113:\tlearn: 0.3745426\ttotal: 1.47s\tremaining: 2.4s\n",
            "114:\tlearn: 0.3743100\ttotal: 1.48s\tremaining: 2.38s\n",
            "115:\tlearn: 0.3743094\ttotal: 1.48s\tremaining: 2.35s\n",
            "116:\tlearn: 0.3741597\ttotal: 1.49s\tremaining: 2.34s\n",
            "117:\tlearn: 0.3737368\ttotal: 1.51s\tremaining: 2.32s\n",
            "118:\tlearn: 0.3737353\ttotal: 1.51s\tremaining: 2.3s\n",
            "119:\tlearn: 0.3733943\ttotal: 1.52s\tremaining: 2.29s\n",
            "120:\tlearn: 0.3732273\ttotal: 1.54s\tremaining: 2.28s\n",
            "121:\tlearn: 0.3726831\ttotal: 1.56s\tremaining: 2.27s\n",
            "122:\tlearn: 0.3722457\ttotal: 1.57s\tremaining: 2.26s\n",
            "123:\tlearn: 0.3719372\ttotal: 1.59s\tremaining: 2.25s\n",
            "124:\tlearn: 0.3719140\ttotal: 1.61s\tremaining: 2.25s\n",
            "125:\tlearn: 0.3715743\ttotal: 1.62s\tremaining: 2.24s\n",
            "126:\tlearn: 0.3708933\ttotal: 1.64s\tremaining: 2.23s\n",
            "127:\tlearn: 0.3705723\ttotal: 1.66s\tremaining: 2.23s\n",
            "128:\tlearn: 0.3702187\ttotal: 1.68s\tremaining: 2.22s\n",
            "129:\tlearn: 0.3700315\ttotal: 1.69s\tremaining: 2.21s\n",
            "130:\tlearn: 0.3697936\ttotal: 1.71s\tremaining: 2.2s\n",
            "131:\tlearn: 0.3692208\ttotal: 1.72s\tremaining: 2.19s\n",
            "132:\tlearn: 0.3691431\ttotal: 1.73s\tremaining: 2.18s\n",
            "133:\tlearn: 0.3687073\ttotal: 1.75s\tremaining: 2.17s\n",
            "134:\tlearn: 0.3683454\ttotal: 1.76s\tremaining: 2.16s\n",
            "135:\tlearn: 0.3682322\ttotal: 1.78s\tremaining: 2.15s\n",
            "136:\tlearn: 0.3682150\ttotal: 1.78s\tremaining: 2.12s\n",
            "137:\tlearn: 0.3679781\ttotal: 1.8s\tremaining: 2.11s\n",
            "138:\tlearn: 0.3672044\ttotal: 1.81s\tremaining: 2.1s\n",
            "139:\tlearn: 0.3667884\ttotal: 1.83s\tremaining: 2.09s\n",
            "140:\tlearn: 0.3667736\ttotal: 1.84s\tremaining: 2.08s\n",
            "141:\tlearn: 0.3663781\ttotal: 1.86s\tremaining: 2.07s\n",
            "142:\tlearn: 0.3659883\ttotal: 1.87s\tremaining: 2.06s\n",
            "143:\tlearn: 0.3652091\ttotal: 1.89s\tremaining: 2.05s\n",
            "144:\tlearn: 0.3647063\ttotal: 1.9s\tremaining: 2.04s\n",
            "145:\tlearn: 0.3638831\ttotal: 1.92s\tremaining: 2.02s\n",
            "146:\tlearn: 0.3636690\ttotal: 1.93s\tremaining: 2.01s\n",
            "147:\tlearn: 0.3635176\ttotal: 1.95s\tremaining: 2s\n",
            "148:\tlearn: 0.3634682\ttotal: 1.96s\tremaining: 1.99s\n",
            "149:\tlearn: 0.3632697\ttotal: 1.98s\tremaining: 1.98s\n",
            "150:\tlearn: 0.3627792\ttotal: 2s\tremaining: 1.97s\n",
            "151:\tlearn: 0.3627641\ttotal: 2s\tremaining: 1.95s\n",
            "152:\tlearn: 0.3626752\ttotal: 2.01s\tremaining: 1.94s\n",
            "153:\tlearn: 0.3626189\ttotal: 2.03s\tremaining: 1.92s\n",
            "154:\tlearn: 0.3625796\ttotal: 2.04s\tremaining: 1.91s\n",
            "155:\tlearn: 0.3625665\ttotal: 2.05s\tremaining: 1.89s\n",
            "156:\tlearn: 0.3624609\ttotal: 2.06s\tremaining: 1.88s\n",
            "157:\tlearn: 0.3618977\ttotal: 2.08s\tremaining: 1.87s\n",
            "158:\tlearn: 0.3615708\ttotal: 2.1s\tremaining: 1.86s\n",
            "159:\tlearn: 0.3614121\ttotal: 2.11s\tremaining: 1.85s\n",
            "160:\tlearn: 0.3613908\ttotal: 2.12s\tremaining: 1.83s\n",
            "161:\tlearn: 0.3609148\ttotal: 2.14s\tremaining: 1.82s\n",
            "162:\tlearn: 0.3607977\ttotal: 2.15s\tremaining: 1.81s\n",
            "163:\tlearn: 0.3604111\ttotal: 2.17s\tremaining: 1.8s\n",
            "164:\tlearn: 0.3603604\ttotal: 2.19s\tremaining: 1.79s\n",
            "165:\tlearn: 0.3599632\ttotal: 2.2s\tremaining: 1.77s\n",
            "166:\tlearn: 0.3593513\ttotal: 2.21s\tremaining: 1.76s\n",
            "167:\tlearn: 0.3590712\ttotal: 2.23s\tremaining: 1.75s\n",
            "168:\tlearn: 0.3588737\ttotal: 2.24s\tremaining: 1.74s\n",
            "169:\tlearn: 0.3585478\ttotal: 2.26s\tremaining: 1.73s\n",
            "170:\tlearn: 0.3581600\ttotal: 2.28s\tremaining: 1.72s\n",
            "171:\tlearn: 0.3580065\ttotal: 2.29s\tremaining: 1.71s\n",
            "172:\tlearn: 0.3573909\ttotal: 2.31s\tremaining: 1.7s\n",
            "173:\tlearn: 0.3573427\ttotal: 2.32s\tremaining: 1.68s\n",
            "174:\tlearn: 0.3572783\ttotal: 2.33s\tremaining: 1.67s\n",
            "175:\tlearn: 0.3570351\ttotal: 2.35s\tremaining: 1.66s\n",
            "176:\tlearn: 0.3569973\ttotal: 2.37s\tremaining: 1.64s\n",
            "177:\tlearn: 0.3566486\ttotal: 2.38s\tremaining: 1.63s\n",
            "178:\tlearn: 0.3561300\ttotal: 2.41s\tremaining: 1.63s\n",
            "179:\tlearn: 0.3555606\ttotal: 2.42s\tremaining: 1.62s\n",
            "180:\tlearn: 0.3553062\ttotal: 2.44s\tremaining: 1.6s\n",
            "181:\tlearn: 0.3550318\ttotal: 2.46s\tremaining: 1.59s\n",
            "182:\tlearn: 0.3549742\ttotal: 2.47s\tremaining: 1.58s\n",
            "183:\tlearn: 0.3546132\ttotal: 2.49s\tremaining: 1.57s\n",
            "184:\tlearn: 0.3545628\ttotal: 2.5s\tremaining: 1.56s\n",
            "185:\tlearn: 0.3542658\ttotal: 2.52s\tremaining: 1.54s\n",
            "186:\tlearn: 0.3540745\ttotal: 2.54s\tremaining: 1.53s\n",
            "187:\tlearn: 0.3535649\ttotal: 2.55s\tremaining: 1.52s\n",
            "188:\tlearn: 0.3531749\ttotal: 2.57s\tremaining: 1.51s\n",
            "189:\tlearn: 0.3525669\ttotal: 2.58s\tremaining: 1.5s\n",
            "190:\tlearn: 0.3520343\ttotal: 2.6s\tremaining: 1.48s\n",
            "191:\tlearn: 0.3516379\ttotal: 2.61s\tremaining: 1.47s\n",
            "192:\tlearn: 0.3512200\ttotal: 2.63s\tremaining: 1.46s\n",
            "193:\tlearn: 0.3510266\ttotal: 2.64s\tremaining: 1.45s\n",
            "194:\tlearn: 0.3508357\ttotal: 2.66s\tremaining: 1.43s\n",
            "195:\tlearn: 0.3505657\ttotal: 2.67s\tremaining: 1.42s\n",
            "196:\tlearn: 0.3501209\ttotal: 2.69s\tremaining: 1.41s\n",
            "197:\tlearn: 0.3497185\ttotal: 2.71s\tremaining: 1.39s\n",
            "198:\tlearn: 0.3493600\ttotal: 2.72s\tremaining: 1.38s\n",
            "199:\tlearn: 0.3490998\ttotal: 2.73s\tremaining: 1.37s\n",
            "200:\tlearn: 0.3485408\ttotal: 2.75s\tremaining: 1.35s\n",
            "201:\tlearn: 0.3481025\ttotal: 2.77s\tremaining: 1.34s\n",
            "202:\tlearn: 0.3476879\ttotal: 2.78s\tremaining: 1.33s\n",
            "203:\tlearn: 0.3473523\ttotal: 2.8s\tremaining: 1.32s\n",
            "204:\tlearn: 0.3467522\ttotal: 2.81s\tremaining: 1.3s\n",
            "205:\tlearn: 0.3466904\ttotal: 2.83s\tremaining: 1.29s\n",
            "206:\tlearn: 0.3463793\ttotal: 2.84s\tremaining: 1.28s\n",
            "207:\tlearn: 0.3460716\ttotal: 2.86s\tremaining: 1.26s\n",
            "208:\tlearn: 0.3456037\ttotal: 2.88s\tremaining: 1.25s\n",
            "209:\tlearn: 0.3455845\ttotal: 2.89s\tremaining: 1.24s\n",
            "210:\tlearn: 0.3451863\ttotal: 2.9s\tremaining: 1.22s\n",
            "211:\tlearn: 0.3449941\ttotal: 2.92s\tremaining: 1.21s\n",
            "212:\tlearn: 0.3447384\ttotal: 2.94s\tremaining: 1.2s\n",
            "213:\tlearn: 0.3445282\ttotal: 2.95s\tremaining: 1.19s\n",
            "214:\tlearn: 0.3440468\ttotal: 2.97s\tremaining: 1.17s\n",
            "215:\tlearn: 0.3437669\ttotal: 2.98s\tremaining: 1.16s\n",
            "216:\tlearn: 0.3435540\ttotal: 3s\tremaining: 1.15s\n",
            "217:\tlearn: 0.3432092\ttotal: 3.02s\tremaining: 1.13s\n",
            "218:\tlearn: 0.3428642\ttotal: 3.03s\tremaining: 1.12s\n",
            "219:\tlearn: 0.3425320\ttotal: 3.05s\tremaining: 1.11s\n",
            "220:\tlearn: 0.3422765\ttotal: 3.06s\tremaining: 1.09s\n",
            "221:\tlearn: 0.3419934\ttotal: 3.08s\tremaining: 1.08s\n",
            "222:\tlearn: 0.3416207\ttotal: 3.09s\tremaining: 1.07s\n",
            "223:\tlearn: 0.3414902\ttotal: 3.11s\tremaining: 1.05s\n",
            "224:\tlearn: 0.3411908\ttotal: 3.13s\tremaining: 1.04s\n",
            "225:\tlearn: 0.3409888\ttotal: 3.15s\tremaining: 1.03s\n",
            "226:\tlearn: 0.3406046\ttotal: 3.16s\tremaining: 1.02s\n",
            "227:\tlearn: 0.3399986\ttotal: 3.18s\tremaining: 1s\n",
            "228:\tlearn: 0.3396396\ttotal: 3.19s\tremaining: 991ms\n",
            "229:\tlearn: 0.3394401\ttotal: 3.21s\tremaining: 977ms\n",
            "230:\tlearn: 0.3391627\ttotal: 3.23s\tremaining: 963ms\n",
            "231:\tlearn: 0.3389518\ttotal: 3.24s\tremaining: 950ms\n",
            "232:\tlearn: 0.3387720\ttotal: 3.25s\tremaining: 936ms\n",
            "233:\tlearn: 0.3383347\ttotal: 3.27s\tremaining: 923ms\n",
            "234:\tlearn: 0.3381061\ttotal: 3.29s\tremaining: 910ms\n",
            "235:\tlearn: 0.3376118\ttotal: 3.3s\tremaining: 896ms\n",
            "236:\tlearn: 0.3372566\ttotal: 3.32s\tremaining: 883ms\n",
            "237:\tlearn: 0.3370073\ttotal: 3.34s\tremaining: 870ms\n",
            "238:\tlearn: 0.3365809\ttotal: 3.36s\tremaining: 857ms\n",
            "239:\tlearn: 0.3361064\ttotal: 3.37s\tremaining: 843ms\n",
            "240:\tlearn: 0.3359556\ttotal: 3.38s\tremaining: 829ms\n",
            "241:\tlearn: 0.3356936\ttotal: 3.41s\tremaining: 818ms\n",
            "242:\tlearn: 0.3353392\ttotal: 3.43s\tremaining: 805ms\n",
            "243:\tlearn: 0.3352052\ttotal: 3.44s\tremaining: 791ms\n",
            "244:\tlearn: 0.3349341\ttotal: 3.46s\tremaining: 777ms\n",
            "245:\tlearn: 0.3344167\ttotal: 3.48s\tremaining: 764ms\n",
            "246:\tlearn: 0.3342028\ttotal: 3.5s\tremaining: 751ms\n",
            "247:\tlearn: 0.3338043\ttotal: 3.51s\tremaining: 737ms\n",
            "248:\tlearn: 0.3337367\ttotal: 3.53s\tremaining: 723ms\n",
            "249:\tlearn: 0.3334924\ttotal: 3.55s\tremaining: 710ms\n",
            "250:\tlearn: 0.3333503\ttotal: 3.57s\tremaining: 696ms\n",
            "251:\tlearn: 0.3328354\ttotal: 3.58s\tremaining: 682ms\n",
            "252:\tlearn: 0.3324878\ttotal: 3.6s\tremaining: 668ms\n",
            "253:\tlearn: 0.3322720\ttotal: 3.61s\tremaining: 654ms\n",
            "254:\tlearn: 0.3319663\ttotal: 3.63s\tremaining: 640ms\n",
            "255:\tlearn: 0.3318740\ttotal: 3.64s\tremaining: 626ms\n",
            "256:\tlearn: 0.3316824\ttotal: 3.66s\tremaining: 612ms\n",
            "257:\tlearn: 0.3313784\ttotal: 3.67s\tremaining: 598ms\n",
            "258:\tlearn: 0.3313631\ttotal: 3.69s\tremaining: 584ms\n",
            "259:\tlearn: 0.3311272\ttotal: 3.7s\tremaining: 569ms\n",
            "260:\tlearn: 0.3308359\ttotal: 3.72s\tremaining: 555ms\n",
            "261:\tlearn: 0.3305363\ttotal: 3.73s\tremaining: 541ms\n",
            "262:\tlearn: 0.3301046\ttotal: 3.75s\tremaining: 527ms\n",
            "263:\tlearn: 0.3297763\ttotal: 3.77s\tremaining: 514ms\n",
            "264:\tlearn: 0.3296671\ttotal: 3.78s\tremaining: 500ms\n",
            "265:\tlearn: 0.3293864\ttotal: 3.8s\tremaining: 486ms\n",
            "266:\tlearn: 0.3290200\ttotal: 3.81s\tremaining: 472ms\n",
            "267:\tlearn: 0.3289088\ttotal: 3.83s\tremaining: 457ms\n",
            "268:\tlearn: 0.3287062\ttotal: 3.85s\tremaining: 444ms\n",
            "269:\tlearn: 0.3285144\ttotal: 3.87s\tremaining: 430ms\n",
            "270:\tlearn: 0.3282539\ttotal: 3.89s\tremaining: 417ms\n",
            "271:\tlearn: 0.3279457\ttotal: 3.91s\tremaining: 403ms\n",
            "272:\tlearn: 0.3276499\ttotal: 3.93s\tremaining: 389ms\n",
            "273:\tlearn: 0.3274639\ttotal: 3.95s\tremaining: 375ms\n",
            "274:\tlearn: 0.3273770\ttotal: 3.97s\tremaining: 361ms\n",
            "275:\tlearn: 0.3273075\ttotal: 3.98s\tremaining: 347ms\n",
            "276:\tlearn: 0.3272332\ttotal: 4s\tremaining: 332ms\n",
            "277:\tlearn: 0.3269407\ttotal: 4.01s\tremaining: 318ms\n",
            "278:\tlearn: 0.3266553\ttotal: 4.03s\tremaining: 303ms\n",
            "279:\tlearn: 0.3265398\ttotal: 4.04s\tremaining: 289ms\n",
            "280:\tlearn: 0.3261998\ttotal: 4.06s\tremaining: 274ms\n",
            "281:\tlearn: 0.3260516\ttotal: 4.07s\tremaining: 260ms\n",
            "282:\tlearn: 0.3258076\ttotal: 4.09s\tremaining: 246ms\n",
            "283:\tlearn: 0.3257763\ttotal: 4.1s\tremaining: 231ms\n",
            "284:\tlearn: 0.3255807\ttotal: 4.12s\tremaining: 217ms\n",
            "285:\tlearn: 0.3253070\ttotal: 4.13s\tremaining: 202ms\n",
            "286:\tlearn: 0.3252308\ttotal: 4.15s\tremaining: 188ms\n",
            "287:\tlearn: 0.3250030\ttotal: 4.16s\tremaining: 174ms\n",
            "288:\tlearn: 0.3249688\ttotal: 4.19s\tremaining: 159ms\n",
            "289:\tlearn: 0.3248836\ttotal: 4.2s\tremaining: 145ms\n",
            "290:\tlearn: 0.3248789\ttotal: 4.21s\tremaining: 130ms\n",
            "291:\tlearn: 0.3243442\ttotal: 4.23s\tremaining: 116ms\n",
            "292:\tlearn: 0.3242417\ttotal: 4.25s\tremaining: 101ms\n",
            "293:\tlearn: 0.3240993\ttotal: 4.26s\tremaining: 87ms\n",
            "294:\tlearn: 0.3238246\ttotal: 4.28s\tremaining: 72.5ms\n",
            "295:\tlearn: 0.3235908\ttotal: 4.29s\tremaining: 58ms\n",
            "296:\tlearn: 0.3235669\ttotal: 4.31s\tremaining: 43.5ms\n",
            "297:\tlearn: 0.3233099\ttotal: 4.32s\tremaining: 29ms\n",
            "298:\tlearn: 0.3230871\ttotal: 4.34s\tremaining: 14.5ms\n",
            "299:\tlearn: 0.3229690\ttotal: 4.35s\tremaining: 0us\n",
            "0.8931447112633472\n",
            "0.8249323519361661\n"
          ],
          "name": "stdout"
        }
      ]
    },
    {
      "cell_type": "markdown",
      "metadata": {
        "id": "rf4Kjt96EEZU"
      },
      "source": [
        "Выпишите какое лучшее качество и с какими параметрами вам удалось получить"
      ]
    },
    {
      "cell_type": "markdown",
      "metadata": {
        "id": "d2d9GolXEEZV"
      },
      "source": [
        ""
      ]
    },
    {
      "cell_type": "markdown",
      "metadata": {
        "id": "dDMXbvNZEEZV"
      },
      "source": [
        "# Предсказания"
      ]
    },
    {
      "cell_type": "code",
      "metadata": {
        "id": "G_P4wFNaEEZW"
      },
      "source": [
        "best_model = boosting_model"
      ],
      "execution_count": null,
      "outputs": []
    },
    {
      "cell_type": "code",
      "metadata": {
        "id": "4mBJAx7NO91M"
      },
      "source": [
        ""
      ],
      "execution_count": null,
      "outputs": []
    },
    {
      "cell_type": "code",
      "metadata": {
        "id": "FfSufx0CEEZZ",
        "colab": {
          "base_uri": "https://localhost:8080/"
        },
        "outputId": "4b4895c9-c71e-4aae-fc0e-53776414f207"
      },
      "source": [
        "X_test = pd.read_csv('./drive/MyDrive/DLS/13/test.csv')\n",
        "submission = pd.read_csv('./drive/MyDrive/DLS/13/submission.csv',index_col=False)\n",
        "#submission.Id.str.split(',').apply(pd.Series)\n",
        "\n",
        "cols = ['Id', 'Churn']\n",
        "submission['Churn'] = best_model.predict_proba(X_test)[:,1] # / best_model.predict(X_test)\n",
        "\n",
        "print(submission.head())\n",
        "submission.to_csv('./drive/MyDrive/DLS/13//my_submission.csv', index=False)"
      ],
      "execution_count": null,
      "outputs": [
        {
          "output_type": "stream",
          "text": [
            "   Id     Churn\n",
            "0   0  0.024553\n",
            "1   1  0.779740\n",
            "2   2  0.635667\n",
            "3   3  0.021659\n",
            "4   4  0.001287\n"
          ],
          "name": "stdout"
        }
      ]
    },
    {
      "cell_type": "markdown",
      "metadata": {
        "id": "mkxjbGkVEEZc"
      },
      "source": [
        "# Kaggle (5 баллов)\n",
        "\n",
        "Как выставить баллы:\n",
        "\n",
        "1) 1 >= roc auc > 0.84 это 5 баллов\n",
        "\n",
        "2) 0.84 >= roc auc > 0.7 это 3 балла\n",
        "\n",
        "3) 0.7 >= roc auc > 0.6 это 1 балл\n",
        "\n",
        "4) 0.6 >= roc auc это 0 баллов\n",
        "\n",
        "\n",
        "Для выполнения задания необходимо выполнить следующие шаги.\n",
        "* Зарегистрироваться на платформе [kaggle.com](kaggle.com). Процесс выставления оценок будет проходить при подведении итогового рейтинга. Пожалуйста, укажите во вкладке Team -> Team name свои имя и фамилию в формате Имя_Фамилия (важно, чтобы имя и фамилия совпадали с данными на Stepik).\n",
        "* Обучить модель, получить файл с ответами в формате .csv и сдать его в конкурс. Пробуйте и экспериментируйте. Обратите внимание, что вы можете выполнять до 20 попыток сдачи на kaggle в день.\n",
        "* После окончания соревнования отправить в итоговый ноутбук с решением на степик. \n",
        "* После дедлайна проверьте посылки других участников по критериям. Для этого надо зайти на степик, скачать их ноутбук и проверить скор в соревновании."
      ]
    }
  ]
}