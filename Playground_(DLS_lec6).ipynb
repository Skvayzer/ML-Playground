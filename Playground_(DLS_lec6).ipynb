{
  "nbformat": 4,
  "nbformat_minor": 0,
  "metadata": {
    "colab": {
      "name": "Playground (DLS lec6).ipynb",
      "provenance": []
    },
    "kernelspec": {
      "name": "python3",
      "display_name": "Python 3"
    },
    "language_info": {
      "name": "python"
    }
  },
  "cells": [
    {
      "cell_type": "code",
      "metadata": {
        "id": "4ArUOpYXfdWp",
        "colab": {
          "base_uri": "https://localhost:8080/",
          "height": 1000
        },
        "outputId": "7a0440b3-ae3b-4960-8fbb-476a61c39a18"
      },
      "source": [
        "# перед началом работы не забудьте скачать файл train.json.zip с Kaggle и разархивировать его\n",
        "import json\n",
        "import pandas as pd\n",
        "\n",
        "# сразу загрузим датасет от Renthop\n",
        "with open('drive/MyDrive/ML/mlcourse.ai/Lecture6/train.json', 'r') as raw_data:\n",
        "    data = json.load(raw_data)\n",
        "    df = pd.DataFrame(data)\n",
        "df"
      ],
      "execution_count": null,
      "outputs": [
        {
          "output_type": "execute_result",
          "data": {
            "text/html": [
              "<div>\n",
              "<style scoped>\n",
              "    .dataframe tbody tr th:only-of-type {\n",
              "        vertical-align: middle;\n",
              "    }\n",
              "\n",
              "    .dataframe tbody tr th {\n",
              "        vertical-align: top;\n",
              "    }\n",
              "\n",
              "    .dataframe thead th {\n",
              "        text-align: right;\n",
              "    }\n",
              "</style>\n",
              "<table border=\"1\" class=\"dataframe\">\n",
              "  <thead>\n",
              "    <tr style=\"text-align: right;\">\n",
              "      <th></th>\n",
              "      <th>bathrooms</th>\n",
              "      <th>bedrooms</th>\n",
              "      <th>building_id</th>\n",
              "      <th>created</th>\n",
              "      <th>description</th>\n",
              "      <th>display_address</th>\n",
              "      <th>features</th>\n",
              "      <th>latitude</th>\n",
              "      <th>listing_id</th>\n",
              "      <th>longitude</th>\n",
              "      <th>manager_id</th>\n",
              "      <th>photos</th>\n",
              "      <th>price</th>\n",
              "      <th>street_address</th>\n",
              "      <th>interest_level</th>\n",
              "    </tr>\n",
              "  </thead>\n",
              "  <tbody>\n",
              "    <tr>\n",
              "      <th>4</th>\n",
              "      <td>1.0</td>\n",
              "      <td>1</td>\n",
              "      <td>8579a0b0d54db803821a35a4a615e97a</td>\n",
              "      <td>2016-06-16 05:55:27</td>\n",
              "      <td>Spacious 1 Bedroom 1 Bathroom in Williamsburg!...</td>\n",
              "      <td>145 Borinquen Place</td>\n",
              "      <td>[Dining Room, Pre-War, Laundry in Building, Di...</td>\n",
              "      <td>40.7108</td>\n",
              "      <td>7170325</td>\n",
              "      <td>-73.9539</td>\n",
              "      <td>a10db4590843d78c784171a107bdacb4</td>\n",
              "      <td>[https://photos.renthop.com/2/7170325_3bb5ac84...</td>\n",
              "      <td>2400</td>\n",
              "      <td>145 Borinquen Place</td>\n",
              "      <td>medium</td>\n",
              "    </tr>\n",
              "    <tr>\n",
              "      <th>6</th>\n",
              "      <td>1.0</td>\n",
              "      <td>2</td>\n",
              "      <td>b8e75fc949a6cd8225b455648a951712</td>\n",
              "      <td>2016-06-01 05:44:33</td>\n",
              "      <td>BRAND NEW GUT RENOVATED TRUE 2 BEDROOMFind you...</td>\n",
              "      <td>East 44th</td>\n",
              "      <td>[Doorman, Elevator, Laundry in Building, Dishw...</td>\n",
              "      <td>40.7513</td>\n",
              "      <td>7092344</td>\n",
              "      <td>-73.9722</td>\n",
              "      <td>955db33477af4f40004820b4aed804a0</td>\n",
              "      <td>[https://photos.renthop.com/2/7092344_7663c19a...</td>\n",
              "      <td>3800</td>\n",
              "      <td>230 East 44th</td>\n",
              "      <td>low</td>\n",
              "    </tr>\n",
              "    <tr>\n",
              "      <th>9</th>\n",
              "      <td>1.0</td>\n",
              "      <td>2</td>\n",
              "      <td>cd759a988b8f23924b5a2058d5ab2b49</td>\n",
              "      <td>2016-06-14 15:19:59</td>\n",
              "      <td>**FLEX 2 BEDROOM WITH FULL PRESSURIZED WALL**L...</td>\n",
              "      <td>East 56th Street</td>\n",
              "      <td>[Doorman, Elevator, Laundry in Building, Laund...</td>\n",
              "      <td>40.7575</td>\n",
              "      <td>7158677</td>\n",
              "      <td>-73.9625</td>\n",
              "      <td>c8b10a317b766204f08e613cef4ce7a0</td>\n",
              "      <td>[https://photos.renthop.com/2/7158677_c897a134...</td>\n",
              "      <td>3495</td>\n",
              "      <td>405 East 56th Street</td>\n",
              "      <td>medium</td>\n",
              "    </tr>\n",
              "    <tr>\n",
              "      <th>10</th>\n",
              "      <td>1.5</td>\n",
              "      <td>3</td>\n",
              "      <td>53a5b119ba8f7b61d4e010512e0dfc85</td>\n",
              "      <td>2016-06-24 07:54:24</td>\n",
              "      <td>A Brand New 3 Bedroom 1.5 bath ApartmentEnjoy ...</td>\n",
              "      <td>Metropolitan Avenue</td>\n",
              "      <td>[]</td>\n",
              "      <td>40.7145</td>\n",
              "      <td>7211212</td>\n",
              "      <td>-73.9425</td>\n",
              "      <td>5ba989232d0489da1b5f2c45f6688adc</td>\n",
              "      <td>[https://photos.renthop.com/2/7211212_1ed4542e...</td>\n",
              "      <td>3000</td>\n",
              "      <td>792 Metropolitan Avenue</td>\n",
              "      <td>medium</td>\n",
              "    </tr>\n",
              "    <tr>\n",
              "      <th>15</th>\n",
              "      <td>1.0</td>\n",
              "      <td>0</td>\n",
              "      <td>bfb9405149bfff42a92980b594c28234</td>\n",
              "      <td>2016-06-28 03:50:23</td>\n",
              "      <td>Over-sized Studio w abundant closets. Availabl...</td>\n",
              "      <td>East 34th Street</td>\n",
              "      <td>[Doorman, Elevator, Fitness Center, Laundry in...</td>\n",
              "      <td>40.7439</td>\n",
              "      <td>7225292</td>\n",
              "      <td>-73.9743</td>\n",
              "      <td>2c3b41f588fbb5234d8a1e885a436cfa</td>\n",
              "      <td>[https://photos.renthop.com/2/7225292_901f1984...</td>\n",
              "      <td>2795</td>\n",
              "      <td>340 East 34th Street</td>\n",
              "      <td>low</td>\n",
              "    </tr>\n",
              "    <tr>\n",
              "      <th>...</th>\n",
              "      <td>...</td>\n",
              "      <td>...</td>\n",
              "      <td>...</td>\n",
              "      <td>...</td>\n",
              "      <td>...</td>\n",
              "      <td>...</td>\n",
              "      <td>...</td>\n",
              "      <td>...</td>\n",
              "      <td>...</td>\n",
              "      <td>...</td>\n",
              "      <td>...</td>\n",
              "      <td>...</td>\n",
              "      <td>...</td>\n",
              "      <td>...</td>\n",
              "      <td>...</td>\n",
              "    </tr>\n",
              "    <tr>\n",
              "      <th>124000</th>\n",
              "      <td>1.0</td>\n",
              "      <td>3</td>\n",
              "      <td>92bbbf38baadfde0576fc496bd41749c</td>\n",
              "      <td>2016-04-05 03:58:33</td>\n",
              "      <td>There is 700 square feet of recently renovated...</td>\n",
              "      <td>W 171 Street</td>\n",
              "      <td>[Elevator, Dishwasher, Hardwood Floors]</td>\n",
              "      <td>40.8433</td>\n",
              "      <td>6824800</td>\n",
              "      <td>-73.9396</td>\n",
              "      <td>a61e21da3ba18c7a3d54cfdcc247e1f8</td>\n",
              "      <td>[https://photos.renthop.com/2/6824800_0682be16...</td>\n",
              "      <td>2800</td>\n",
              "      <td>620 W 171 Street</td>\n",
              "      <td>low</td>\n",
              "    </tr>\n",
              "    <tr>\n",
              "      <th>124002</th>\n",
              "      <td>1.0</td>\n",
              "      <td>2</td>\n",
              "      <td>5565db9b7cba3603834c4aa6f2950960</td>\n",
              "      <td>2016-04-02 02:25:31</td>\n",
              "      <td>2 bedroom apartment with updated kitchen, rece...</td>\n",
              "      <td>Broadway</td>\n",
              "      <td>[Common Outdoor Space, Cats Allowed, Dogs Allo...</td>\n",
              "      <td>40.8198</td>\n",
              "      <td>6813268</td>\n",
              "      <td>-73.9578</td>\n",
              "      <td>8f90e5e10e8a2d7cf997f016d89230eb</td>\n",
              "      <td>[https://photos.renthop.com/2/6813268_1e6fcc32...</td>\n",
              "      <td>2395</td>\n",
              "      <td>3333 Broadway</td>\n",
              "      <td>medium</td>\n",
              "    </tr>\n",
              "    <tr>\n",
              "      <th>124004</th>\n",
              "      <td>1.0</td>\n",
              "      <td>1</td>\n",
              "      <td>67997a128056ee1ed7d046bbb856e3c7</td>\n",
              "      <td>2016-04-26 05:42:03</td>\n",
              "      <td>No Brokers Fee * Never Lived 1 Bedroom 1 Bathr...</td>\n",
              "      <td>210 Brighton 15th St</td>\n",
              "      <td>[Dining Room, Elevator, Pre-War, Laundry in Bu...</td>\n",
              "      <td>40.5765</td>\n",
              "      <td>6927093</td>\n",
              "      <td>-73.9554</td>\n",
              "      <td>a10db4590843d78c784171a107bdacb4</td>\n",
              "      <td>[https://photos.renthop.com/2/6927093_93a52104...</td>\n",
              "      <td>1850</td>\n",
              "      <td>210 Brighton 15th St</td>\n",
              "      <td>medium</td>\n",
              "    </tr>\n",
              "    <tr>\n",
              "      <th>124008</th>\n",
              "      <td>1.0</td>\n",
              "      <td>2</td>\n",
              "      <td>3c0574a740154806c18bdf1fddd3d966</td>\n",
              "      <td>2016-04-19 02:47:33</td>\n",
              "      <td>Wonderful Bright Chelsea 2 Bedroom apartment o...</td>\n",
              "      <td>West 21st Street</td>\n",
              "      <td>[Pre-War, Laundry in Unit, Dishwasher, No Fee,...</td>\n",
              "      <td>40.7448</td>\n",
              "      <td>6892816</td>\n",
              "      <td>-74.0017</td>\n",
              "      <td>c3cd45f4381ac371507090e9ffabea80</td>\n",
              "      <td>[https://photos.renthop.com/2/6892816_1a8d087a...</td>\n",
              "      <td>4195</td>\n",
              "      <td>350 West 21st Street</td>\n",
              "      <td>medium</td>\n",
              "    </tr>\n",
              "    <tr>\n",
              "      <th>124009</th>\n",
              "      <td>1.0</td>\n",
              "      <td>3</td>\n",
              "      <td>d89f514c3ed0abaae52cba7017ac0701</td>\n",
              "      <td>2016-04-20 05:34:00</td>\n",
              "      <td>***PRIME MIDTOWN EAST OFF PARK AVE***TRUE 3 BE...</td>\n",
              "      <td>E 54th St</td>\n",
              "      <td>[Dining Room, Elevator, Laundry in Building, D...</td>\n",
              "      <td>40.7594</td>\n",
              "      <td>6901023</td>\n",
              "      <td>-73.9712</td>\n",
              "      <td>e90f2ded843cdb2efd65ef47d9fc8029</td>\n",
              "      <td>[https://photos.renthop.com/2/6901023_02052d90...</td>\n",
              "      <td>4280</td>\n",
              "      <td>123 E 54th St</td>\n",
              "      <td>high</td>\n",
              "    </tr>\n",
              "  </tbody>\n",
              "</table>\n",
              "<p>49352 rows × 15 columns</p>\n",
              "</div>"
            ],
            "text/plain": [
              "        bathrooms  bedrooms  ...           street_address interest_level\n",
              "4             1.0         1  ...      145 Borinquen Place         medium\n",
              "6             1.0         2  ...            230 East 44th            low\n",
              "9             1.0         2  ...     405 East 56th Street         medium\n",
              "10            1.5         3  ...  792 Metropolitan Avenue         medium\n",
              "15            1.0         0  ...     340 East 34th Street            low\n",
              "...           ...       ...  ...                      ...            ...\n",
              "124000        1.0         3  ...         620 W 171 Street            low\n",
              "124002        1.0         2  ...            3333 Broadway         medium\n",
              "124004        1.0         1  ...     210 Brighton 15th St         medium\n",
              "124008        1.0         2  ...     350 West 21st Street         medium\n",
              "124009        1.0         3  ...            123 E 54th St           high\n",
              "\n",
              "[49352 rows x 15 columns]"
            ]
          },
          "metadata": {
            "tags": []
          },
          "execution_count": 2
        }
      ]
    },
    {
      "cell_type": "code",
      "metadata": {
        "colab": {
          "base_uri": "https://localhost:8080/"
        },
        "id": "D_MPs_TjgFV0",
        "outputId": "eb1e0762-f421-4f59-ae14-6e79530fb382"
      },
      "source": [
        "from functools import reduce\n",
        "import numpy as np\n",
        "\n",
        "texts = [['i', 'have', 'a', 'cat'],\n",
        "         ['he', 'have', 'a', 'dog'],\n",
        "         ['he', 'and', 'i', 'have', 'a', 'cat', 'and', 'a', 'dog']]\n",
        "\n",
        "dictionary = list(enumerate(set(reduce(lambda x, y: x + y, texts))))\n",
        "dictionary"
      ],
      "execution_count": null,
      "outputs": [
        {
          "output_type": "execute_result",
          "data": {
            "text/plain": [
              "[(0, 'cat'),\n",
              " (1, 'i'),\n",
              " (2, 'he'),\n",
              " (3, 'and'),\n",
              " (4, 'dog'),\n",
              " (5, 'a'),\n",
              " (6, 'have')]"
            ]
          },
          "metadata": {
            "tags": []
          },
          "execution_count": 3
        }
      ]
    },
    {
      "cell_type": "code",
      "metadata": {
        "colab": {
          "base_uri": "https://localhost:8080/"
        },
        "id": "wfvcNkR1vDDi",
        "outputId": "46f32872-e575-429c-956b-a9529e3b3652"
      },
      "source": [
        "def vectorize(text):\n",
        "    vector = np.zeros(len(dictionary))\n",
        "    for i, word in dictionary:\n",
        "        num = 0\n",
        "        for w in text:\n",
        "            if w == word:\n",
        "                num += 1\n",
        "        if num:\n",
        "            vector[i] = num\n",
        "    return vector\n",
        "\n",
        "for t in texts:\n",
        "    print(vectorize(t))"
      ],
      "execution_count": null,
      "outputs": [
        {
          "output_type": "stream",
          "text": [
            "[1. 1. 0. 0. 0. 1. 1.]\n",
            "[0. 0. 1. 0. 1. 1. 1.]\n",
            "[1. 1. 1. 2. 1. 2. 1.]\n"
          ],
          "name": "stdout"
        }
      ]
    },
    {
      "cell_type": "code",
      "metadata": {
        "id": "1aE_JiZd1Ogi",
        "colab": {
          "base_uri": "https://localhost:8080/"
        },
        "outputId": "471048d6-f165-43e2-d6f5-d3ee59fe86e4"
      },
      "source": [
        "from sklearn.feature_extraction.text import CountVectorizer\n",
        "vect = CountVectorizer(ngram_range=(1,1)) \n",
        "vect.fit_transform(['no i have cows', 'i have no cows']).toarray()"
      ],
      "execution_count": null,
      "outputs": [
        {
          "output_type": "execute_result",
          "data": {
            "text/plain": [
              "array([[1, 1, 1],\n",
              "       [1, 1, 1]])"
            ]
          },
          "metadata": {
            "tags": []
          },
          "execution_count": 5
        }
      ]
    },
    {
      "cell_type": "code",
      "metadata": {
        "colab": {
          "base_uri": "https://localhost:8080/"
        },
        "id": "uEgjdlDhD-P0",
        "outputId": "c5ceaa5f-5eb5-4b2f-cbab-7d9bd1a433b7"
      },
      "source": [
        "vect.vocabulary_"
      ],
      "execution_count": null,
      "outputs": [
        {
          "output_type": "execute_result",
          "data": {
            "text/plain": [
              "{'cows': 0, 'have': 1, 'no': 2}"
            ]
          },
          "metadata": {
            "tags": []
          },
          "execution_count": 6
        }
      ]
    },
    {
      "cell_type": "code",
      "metadata": {
        "colab": {
          "base_uri": "https://localhost:8080/"
        },
        "id": "G6QnUr2AEBo9",
        "outputId": "544f637e-3fd7-4b7e-fe4d-46ddd2530965"
      },
      "source": [
        "vect = CountVectorizer(ngram_range=(1,2)) \n",
        "vect.fit_transform(['no i have cows', 'i have no cows']).toarray()"
      ],
      "execution_count": null,
      "outputs": [
        {
          "output_type": "execute_result",
          "data": {
            "text/plain": [
              "array([[1, 1, 1, 0, 1, 0, 1],\n",
              "       [1, 1, 0, 1, 1, 1, 0]])"
            ]
          },
          "metadata": {
            "tags": []
          },
          "execution_count": 7
        }
      ]
    },
    {
      "cell_type": "code",
      "metadata": {
        "colab": {
          "base_uri": "https://localhost:8080/"
        },
        "id": "bbBt8YIhESHr",
        "outputId": "62933d85-6c6d-4e03-e975-6f5a49ec0ac6"
      },
      "source": [
        "vect.vocabulary_"
      ],
      "execution_count": null,
      "outputs": [
        {
          "output_type": "execute_result",
          "data": {
            "text/plain": [
              "{'cows': 0,\n",
              " 'have': 1,\n",
              " 'have cows': 2,\n",
              " 'have no': 3,\n",
              " 'no': 4,\n",
              " 'no cows': 5,\n",
              " 'no have': 6}"
            ]
          },
          "metadata": {
            "tags": []
          },
          "execution_count": 8
        }
      ]
    },
    {
      "cell_type": "code",
      "metadata": {
        "colab": {
          "base_uri": "https://localhost:8080/"
        },
        "id": "sN6DeXaREpeI",
        "outputId": "9806a4a3-b9d8-41e8-9f04-2a6f236d4c71"
      },
      "source": [
        "from scipy.spatial.distance import euclidean\n",
        "vect = CountVectorizer(ngram_range=(3,3), analyzer='char_wb')\n",
        "n1, n2, n3, n4 = vect.fit_transform(['иванов', 'петров', 'петренко', 'смит']).toarray()\n",
        "euclidean(n1, n2)"
      ],
      "execution_count": null,
      "outputs": [
        {
          "output_type": "execute_result",
          "data": {
            "text/plain": [
              "3.1622776601683795"
            ]
          },
          "metadata": {
            "tags": []
          },
          "execution_count": 9
        }
      ]
    },
    {
      "cell_type": "code",
      "metadata": {
        "colab": {
          "base_uri": "https://localhost:8080/"
        },
        "id": "ZbbEFS0bFZqd",
        "outputId": "7d832427-6043-48a1-d8c9-2dada0933257"
      },
      "source": [
        "n1,n2,n3,n4"
      ],
      "execution_count": null,
      "outputs": [
        {
          "output_type": "execute_result",
          "data": {
            "text/plain": [
              "(array([1, 0, 0, 1, 1, 0, 0, 1, 0, 0, 0, 0, 1, 1, 0, 0, 0, 0, 0, 0]),\n",
              " array([0, 1, 0, 0, 0, 0, 1, 0, 0, 0, 0, 0, 0, 1, 1, 0, 1, 0, 0, 1]),\n",
              " array([0, 1, 0, 0, 0, 1, 1, 0, 0, 1, 0, 1, 0, 0, 1, 1, 0, 0, 1, 0]),\n",
              " array([0, 0, 1, 0, 0, 0, 0, 0, 1, 0, 1, 0, 0, 0, 0, 0, 0, 1, 0, 0]))"
            ]
          },
          "metadata": {
            "tags": []
          },
          "execution_count": 10
        }
      ]
    },
    {
      "cell_type": "code",
      "metadata": {
        "colab": {
          "base_uri": "https://localhost:8080/"
        },
        "id": "Rs-SQg_RF9HZ",
        "outputId": "c0901183-6b4a-4f60-a21d-313ade231e2a"
      },
      "source": [
        "vect.vocabulary_"
      ],
      "execution_count": null,
      "outputs": [
        {
          "output_type": "execute_result",
          "data": {
            "text/plain": [
              "{' ив': 0,\n",
              " ' пе': 1,\n",
              " ' см': 2,\n",
              " 'ано': 3,\n",
              " 'ван': 4,\n",
              " 'енк': 5,\n",
              " 'етр': 6,\n",
              " 'ива': 7,\n",
              " 'ит ': 8,\n",
              " 'ко ': 9,\n",
              " 'мит': 10,\n",
              " 'нко': 11,\n",
              " 'нов': 12,\n",
              " 'ов ': 13,\n",
              " 'пет': 14,\n",
              " 'рен': 15,\n",
              " 'ров': 16,\n",
              " 'сми': 17,\n",
              " 'тре': 18,\n",
              " 'тро': 19}"
            ]
          },
          "metadata": {
            "tags": []
          },
          "execution_count": 11
        }
      ]
    },
    {
      "cell_type": "code",
      "metadata": {
        "colab": {
          "base_uri": "https://localhost:8080/"
        },
        "id": "lmEXZcGcGNyn",
        "outputId": "08b9a6aa-1430-4738-8340-559d0b698637"
      },
      "source": [
        "euclidean(n2, n3)"
      ],
      "execution_count": null,
      "outputs": [
        {
          "output_type": "execute_result",
          "data": {
            "text/plain": [
              "2.8284271247461903"
            ]
          },
          "metadata": {
            "tags": []
          },
          "execution_count": 12
        }
      ]
    },
    {
      "cell_type": "code",
      "metadata": {
        "colab": {
          "base_uri": "https://localhost:8080/"
        },
        "id": "rmDesqn-HCWl",
        "outputId": "d78571c9-54ae-4a6c-a652-2212fcb54e18"
      },
      "source": [
        "euclidean(n3, n4)"
      ],
      "execution_count": null,
      "outputs": [
        {
          "output_type": "execute_result",
          "data": {
            "text/plain": [
              "3.4641016151377544"
            ]
          },
          "metadata": {
            "tags": []
          },
          "execution_count": 13
        }
      ]
    },
    {
      "cell_type": "code",
      "metadata": {
        "colab": {
          "base_uri": "https://localhost:8080/"
        },
        "id": "-5ShBJKKHEvW",
        "outputId": "603f7d48-41ca-4ef1-ad79-83b404bce75f"
      },
      "source": [
        "from keras.applications.resnet50 import ResNet50\n",
        "from keras.preprocessing import image\n",
        "from scipy.misc import face\n",
        "import numpy as np\n",
        "\n",
        "resnet_settings = {'include_top': False, 'weights': 'imagenet'}\n",
        "resnet = ResNet50(**resnet_settings)\n",
        "\n",
        "img = image.array_to_img(face())\n",
        "# какой милый енот! \n",
        "img = img.resize((224, 224))\n",
        "# в реальной жизни может понадобиться внимательнее относиться к ресайзу\n",
        "x = image.img_to_array(img)\n",
        "x = np.expand_dims(x, axis=0)\n",
        "# нужно дополнительное измерение, т.к. модель рассчитана на работу с массивом изображений\n",
        "\n",
        "features = resnet.predict(x)\n",
        "features"
      ],
      "execution_count": null,
      "outputs": [
        {
          "output_type": "stream",
          "text": [
            "Downloading data from https://storage.googleapis.com/tensorflow/keras-applications/resnet/resnet50_weights_tf_dim_ordering_tf_kernels_notop.h5\n",
            "94773248/94765736 [==============================] - 1s 0us/step\n"
          ],
          "name": "stdout"
        },
        {
          "output_type": "execute_result",
          "data": {
            "text/plain": [
              "array([[[[0.        , 0.        , 0.        , ..., 0.        ,\n",
              "          0.        , 0.        ],\n",
              "         [0.        , 0.        , 0.        , ..., 0.        ,\n",
              "          0.        , 0.        ],\n",
              "         [0.        , 0.        , 0.        , ..., 0.        ,\n",
              "          0.        , 0.        ],\n",
              "         ...,\n",
              "         [0.        , 0.        , 0.        , ..., 0.        ,\n",
              "          0.        , 0.        ],\n",
              "         [0.        , 0.        , 0.        , ..., 0.        ,\n",
              "          0.        , 0.        ],\n",
              "         [0.        , 0.        , 0.        , ..., 0.        ,\n",
              "          0.        , 0.        ]],\n",
              "\n",
              "        [[0.        , 0.        , 0.        , ..., 0.        ,\n",
              "          0.36833775, 0.        ],\n",
              "         [0.        , 0.        , 0.        , ..., 0.        ,\n",
              "          0.        , 0.        ],\n",
              "         [0.        , 0.64314723, 0.        , ..., 0.        ,\n",
              "          0.        , 0.        ],\n",
              "         ...,\n",
              "         [0.        , 0.        , 0.        , ..., 0.        ,\n",
              "          0.54946536, 0.        ],\n",
              "         [0.        , 0.        , 0.        , ..., 0.        ,\n",
              "          0.14448787, 0.        ],\n",
              "         [0.        , 0.        , 0.        , ..., 0.        ,\n",
              "          0.        , 0.        ]],\n",
              "\n",
              "        [[0.        , 0.        , 0.        , ..., 0.        ,\n",
              "          0.        , 0.        ],\n",
              "         [0.        , 0.        , 0.        , ..., 0.        ,\n",
              "          0.        , 0.        ],\n",
              "         [0.        , 0.        , 0.        , ..., 0.        ,\n",
              "          1.7430584 , 0.        ],\n",
              "         ...,\n",
              "         [0.        , 0.        , 0.        , ..., 0.        ,\n",
              "          2.7483783 , 0.        ],\n",
              "         [0.        , 0.        , 0.        , ..., 0.        ,\n",
              "          2.0241847 , 0.        ],\n",
              "         [0.        , 0.        , 0.        , ..., 0.        ,\n",
              "          0.40531403, 0.        ]],\n",
              "\n",
              "        ...,\n",
              "\n",
              "        [[3.5553799 , 0.        , 0.        , ..., 0.        ,\n",
              "          3.3791487 , 0.        ],\n",
              "         [2.541205  , 0.        , 0.        , ..., 0.        ,\n",
              "          0.3019085 , 0.        ],\n",
              "         [0.        , 0.        , 0.6475048 , ..., 0.        ,\n",
              "          0.        , 0.        ],\n",
              "         ...,\n",
              "         [0.16499051, 0.        , 0.        , ..., 0.        ,\n",
              "          0.        , 0.        ],\n",
              "         [0.97177887, 0.        , 0.        , ..., 0.        ,\n",
              "          0.        , 0.        ],\n",
              "         [1.5625172 , 0.        , 0.        , ..., 0.        ,\n",
              "          0.23843437, 0.        ]],\n",
              "\n",
              "        [[4.416502  , 0.        , 0.        , ..., 0.        ,\n",
              "          8.956239  , 0.        ],\n",
              "         [4.2527146 , 0.        , 0.        , ..., 0.        ,\n",
              "          9.2599945 , 0.        ],\n",
              "         [3.4673448 , 0.        , 0.42825797, ..., 0.        ,\n",
              "          2.3041651 , 0.        ],\n",
              "         ...,\n",
              "         [0.        , 0.26623294, 0.        , ..., 0.        ,\n",
              "          0.        , 0.        ],\n",
              "         [1.6203302 , 0.6076812 , 0.        , ..., 0.        ,\n",
              "          0.        , 0.        ],\n",
              "         [0.9068839 , 0.        , 0.        , ..., 0.        ,\n",
              "          1.0752357 , 0.        ]],\n",
              "\n",
              "        [[3.4174614 , 0.        , 0.        , ..., 0.        ,\n",
              "          1.5709462 , 0.        ],\n",
              "         [2.5833375 , 0.        , 0.        , ..., 0.        ,\n",
              "          7.386427  , 0.        ],\n",
              "         [0.        , 0.        , 0.2724688 , ..., 0.        ,\n",
              "          4.50283   , 0.        ],\n",
              "         ...,\n",
              "         [0.        , 0.        , 5.4123263 , ..., 3.3648906 ,\n",
              "          0.6015732 , 0.        ],\n",
              "         [0.        , 0.        , 2.623833  , ..., 0.        ,\n",
              "          0.        , 0.        ],\n",
              "         [0.        , 0.        , 0.32002187, ..., 2.7615712 ,\n",
              "          2.123591  , 0.        ]]]], dtype=float32)"
            ]
          },
          "metadata": {
            "tags": []
          },
          "execution_count": 14
        }
      ]
    },
    {
      "cell_type": "code",
      "metadata": {
        "colab": {
          "base_uri": "https://localhost:8080/"
        },
        "id": "YEyYmH4rR0TB",
        "outputId": "687137eb-b73c-4b34-dfe1-9694d6ffd730"
      },
      "source": [
        "pip install pytesseract"
      ],
      "execution_count": null,
      "outputs": [
        {
          "output_type": "stream",
          "text": [
            "Collecting pytesseract\n",
            "  Downloading https://files.pythonhosted.org/packages/a3/c9/d6e8903482bd6fb994c32722831d15842dd8b614f94ad9ca735807252671/pytesseract-0.3.8.tar.gz\n",
            "Requirement already satisfied: Pillow in /usr/local/lib/python3.7/dist-packages (from pytesseract) (7.1.2)\n",
            "Building wheels for collected packages: pytesseract\n",
            "  Building wheel for pytesseract (setup.py) ... \u001b[?25l\u001b[?25hdone\n",
            "  Created wheel for pytesseract: filename=pytesseract-0.3.8-py2.py3-none-any.whl size=14071 sha256=42518bb46039a9f2a5c8ecdc1eab79540eb95fce712948c8c2e1f72fc17499bb\n",
            "  Stored in directory: /root/.cache/pip/wheels/a2/66/45/88bf1b2d428817a006944b9730b27d6861b776e05a9e262bd4\n",
            "Successfully built pytesseract\n",
            "Installing collected packages: pytesseract\n",
            "Successfully installed pytesseract-0.3.8\n"
          ],
          "name": "stdout"
        }
      ]
    },
    {
      "cell_type": "code",
      "metadata": {
        "colab": {
          "base_uri": "https://localhost:8080/"
        },
        "id": "aXUrU3E4PnLc",
        "outputId": "89494fad-2897-4423-815d-d41f0a8a2736"
      },
      "source": [
        "pip install tesseract"
      ],
      "execution_count": null,
      "outputs": [
        {
          "output_type": "stream",
          "text": [
            "Collecting tesseract\n",
            "\u001b[?25l  Downloading https://files.pythonhosted.org/packages/8d/b7/c4fae9af5842f69d9c45bf1195a94aec090628535c102894552a7a7dbe6c/tesseract-0.1.3.tar.gz (45.6MB)\n",
            "\u001b[K     |████████████████████████████████| 45.6MB 65kB/s \n",
            "\u001b[?25hBuilding wheels for collected packages: tesseract\n",
            "  Building wheel for tesseract (setup.py) ... \u001b[?25l\u001b[?25hdone\n",
            "  Created wheel for tesseract: filename=tesseract-0.1.3-cp37-none-any.whl size=45562571 sha256=200776677873321ad1d84cd265b3b297bbc66de24d9e29850681f63cd534de20\n",
            "  Stored in directory: /root/.cache/pip/wheels/82/1f/d9/24797b123379e4ea9511cf660835468b62dad609634cad2aba\n",
            "Successfully built tesseract\n",
            "Installing collected packages: tesseract\n",
            "Successfully installed tesseract-0.1.3\n"
          ],
          "name": "stdout"
        }
      ]
    },
    {
      "cell_type": "code",
      "metadata": {
        "colab": {
          "base_uri": "https://localhost:8080/"
        },
        "id": "OdDS-OUIPrc-",
        "outputId": "2ecb44e4-574f-4b9a-ed25-207c9802d60f"
      },
      "source": [
        "pip install tesseract-ocr"
      ],
      "execution_count": null,
      "outputs": [
        {
          "output_type": "stream",
          "text": [
            "Collecting tesseract-ocr\n",
            "  Downloading https://files.pythonhosted.org/packages/e2/0d/dcee3dd0fc4c7bcd18125a98f8ba6d9db7aecaa40770595203e312649587/tesseract-ocr-0.0.1.tar.gz\n",
            "Requirement already satisfied: cython in /usr/local/lib/python3.7/dist-packages (from tesseract-ocr) (0.29.23)\n",
            "Building wheels for collected packages: tesseract-ocr\n",
            "  Building wheel for tesseract-ocr (setup.py) ... \u001b[?25lerror\n",
            "\u001b[31m  ERROR: Failed building wheel for tesseract-ocr\u001b[0m\n",
            "\u001b[?25h  Running setup.py clean for tesseract-ocr\n",
            "Failed to build tesseract-ocr\n",
            "Installing collected packages: tesseract-ocr\n",
            "    Running setup.py install for tesseract-ocr ... \u001b[?25l\u001b[?25herror\n",
            "\u001b[31mERROR: Command errored out with exit status 1: /usr/bin/python3 -u -c 'import sys, setuptools, tokenize; sys.argv[0] = '\"'\"'/tmp/pip-install-tq3u64g2/tesseract-ocr/setup.py'\"'\"'; __file__='\"'\"'/tmp/pip-install-tq3u64g2/tesseract-ocr/setup.py'\"'\"';f=getattr(tokenize, '\"'\"'open'\"'\"', open)(__file__);code=f.read().replace('\"'\"'\\r\\n'\"'\"', '\"'\"'\\n'\"'\"');f.close();exec(compile(code, __file__, '\"'\"'exec'\"'\"'))' install --record /tmp/pip-record-y9lr6dkh/install-record.txt --single-version-externally-managed --compile Check the logs for full command output.\u001b[0m\n"
          ],
          "name": "stdout"
        }
      ]
    },
    {
      "cell_type": "code",
      "metadata": {
        "id": "HyrUa8jmQGi7",
        "colab": {
          "base_uri": "https://localhost:8080/",
          "height": 167
        },
        "outputId": "d0c21360-e2e5-4573-f000-4ceba6a54f51"
      },
      "source": [
        "pytesseract.pytesseract.tesseract_cmd = r'/usr/local/bin/pytesseract'"
      ],
      "execution_count": null,
      "outputs": [
        {
          "output_type": "error",
          "ename": "NameError",
          "evalue": "ignored",
          "traceback": [
            "\u001b[0;31m---------------------------------------------------------------------------\u001b[0m",
            "\u001b[0;31mNameError\u001b[0m                                 Traceback (most recent call last)",
            "\u001b[0;32m<ipython-input-18-eb841d2b8ad7>\u001b[0m in \u001b[0;36m<module>\u001b[0;34m()\u001b[0m\n\u001b[0;32m----> 1\u001b[0;31m \u001b[0mpytesseract\u001b[0m\u001b[0;34m.\u001b[0m\u001b[0mpytesseract\u001b[0m\u001b[0;34m.\u001b[0m\u001b[0mtesseract_cmd\u001b[0m \u001b[0;34m=\u001b[0m \u001b[0;34mr'/usr/local/bin/pytesseract'\u001b[0m\u001b[0;34m\u001b[0m\u001b[0;34m\u001b[0m\u001b[0m\n\u001b[0m",
            "\u001b[0;31mNameError\u001b[0m: name 'pytesseract' is not defined"
          ]
        }
      ]
    },
    {
      "cell_type": "code",
      "metadata": {
        "id": "Vg0G1900N8ML"
      },
      "source": [
        "import pytesseract\n",
        "from PIL import Image\n",
        "import requests\n",
        "from io import BytesIO\n",
        "img = 'http://ohscurrent.org/wp-content/uploads/2015/09/domus-01-google.jpg'\n",
        "img = requests.get(img)\n",
        "img = Image.open(BytesIO(img.content))\n",
        "text = pytesseract.image_to_string(img)\n",
        "text"
      ],
      "execution_count": null,
      "outputs": []
    },
    {
      "cell_type": "code",
      "metadata": {
        "id": "RV1iFpcBR3WI"
      },
      "source": [
        "pip install reverse_geocoder"
      ],
      "execution_count": null,
      "outputs": []
    },
    {
      "cell_type": "code",
      "metadata": {
        "id": "VBotuPNnRxuU"
      },
      "source": [
        "import reverse_geocoder as revgc\n",
        "revgc.search((df.latitude, df.longitude))"
      ],
      "execution_count": null,
      "outputs": []
    },
    {
      "cell_type": "code",
      "metadata": {
        "id": "I2-S62H-R077",
        "colab": {
          "base_uri": "https://localhost:8080/",
          "height": 313
        },
        "outputId": "c72c6cd3-d844-420d-f046-4a2ac687aed6"
      },
      "source": [
        "df['dow'] = df['created'].apply(lambda x: x.date().weekday())\n",
        "df['is_weekend'] = df['created'].apply(lambda x: 1 if x.date().weekday() in (5, 6) else 0)"
      ],
      "execution_count": null,
      "outputs": [
        {
          "output_type": "error",
          "ename": "AttributeError",
          "evalue": "ignored",
          "traceback": [
            "\u001b[0;31m---------------------------------------------------------------------------\u001b[0m",
            "\u001b[0;31mAttributeError\u001b[0m                            Traceback (most recent call last)",
            "\u001b[0;32m<ipython-input-19-38e0b26cceb8>\u001b[0m in \u001b[0;36m<module>\u001b[0;34m()\u001b[0m\n\u001b[0;32m----> 1\u001b[0;31m \u001b[0mdf\u001b[0m\u001b[0;34m[\u001b[0m\u001b[0;34m'dow'\u001b[0m\u001b[0;34m]\u001b[0m \u001b[0;34m=\u001b[0m \u001b[0mdf\u001b[0m\u001b[0;34m[\u001b[0m\u001b[0;34m'created'\u001b[0m\u001b[0;34m]\u001b[0m\u001b[0;34m.\u001b[0m\u001b[0mapply\u001b[0m\u001b[0;34m(\u001b[0m\u001b[0;32mlambda\u001b[0m \u001b[0mx\u001b[0m\u001b[0;34m:\u001b[0m \u001b[0mx\u001b[0m\u001b[0;34m.\u001b[0m\u001b[0mdate\u001b[0m\u001b[0;34m(\u001b[0m\u001b[0;34m)\u001b[0m\u001b[0;34m.\u001b[0m\u001b[0mweekday\u001b[0m\u001b[0;34m(\u001b[0m\u001b[0;34m)\u001b[0m\u001b[0;34m)\u001b[0m\u001b[0;34m\u001b[0m\u001b[0;34m\u001b[0m\u001b[0m\n\u001b[0m\u001b[1;32m      2\u001b[0m \u001b[0mdf\u001b[0m\u001b[0;34m[\u001b[0m\u001b[0;34m'is_weekend'\u001b[0m\u001b[0;34m]\u001b[0m \u001b[0;34m=\u001b[0m \u001b[0mdf\u001b[0m\u001b[0;34m[\u001b[0m\u001b[0;34m'created'\u001b[0m\u001b[0;34m]\u001b[0m\u001b[0;34m.\u001b[0m\u001b[0mapply\u001b[0m\u001b[0;34m(\u001b[0m\u001b[0;32mlambda\u001b[0m \u001b[0mx\u001b[0m\u001b[0;34m:\u001b[0m \u001b[0;36m1\u001b[0m \u001b[0;32mif\u001b[0m \u001b[0mx\u001b[0m\u001b[0;34m.\u001b[0m\u001b[0mdate\u001b[0m\u001b[0;34m(\u001b[0m\u001b[0;34m)\u001b[0m\u001b[0;34m.\u001b[0m\u001b[0mweekday\u001b[0m\u001b[0;34m(\u001b[0m\u001b[0;34m)\u001b[0m \u001b[0;32min\u001b[0m \u001b[0;34m(\u001b[0m\u001b[0;36m5\u001b[0m\u001b[0;34m,\u001b[0m \u001b[0;36m6\u001b[0m\u001b[0;34m)\u001b[0m \u001b[0;32melse\u001b[0m \u001b[0;36m0\u001b[0m\u001b[0;34m)\u001b[0m\u001b[0;34m\u001b[0m\u001b[0;34m\u001b[0m\u001b[0m\n",
            "\u001b[0;32m/usr/local/lib/python3.7/dist-packages/pandas/core/series.py\u001b[0m in \u001b[0;36mapply\u001b[0;34m(self, func, convert_dtype, args, **kwds)\u001b[0m\n\u001b[1;32m   4211\u001b[0m             \u001b[0;32melse\u001b[0m\u001b[0;34m:\u001b[0m\u001b[0;34m\u001b[0m\u001b[0;34m\u001b[0m\u001b[0m\n\u001b[1;32m   4212\u001b[0m                 \u001b[0mvalues\u001b[0m \u001b[0;34m=\u001b[0m \u001b[0mself\u001b[0m\u001b[0;34m.\u001b[0m\u001b[0mastype\u001b[0m\u001b[0;34m(\u001b[0m\u001b[0mobject\u001b[0m\u001b[0;34m)\u001b[0m\u001b[0;34m.\u001b[0m\u001b[0m_values\u001b[0m\u001b[0;34m\u001b[0m\u001b[0;34m\u001b[0m\u001b[0m\n\u001b[0;32m-> 4213\u001b[0;31m                 \u001b[0mmapped\u001b[0m \u001b[0;34m=\u001b[0m \u001b[0mlib\u001b[0m\u001b[0;34m.\u001b[0m\u001b[0mmap_infer\u001b[0m\u001b[0;34m(\u001b[0m\u001b[0mvalues\u001b[0m\u001b[0;34m,\u001b[0m \u001b[0mf\u001b[0m\u001b[0;34m,\u001b[0m \u001b[0mconvert\u001b[0m\u001b[0;34m=\u001b[0m\u001b[0mconvert_dtype\u001b[0m\u001b[0;34m)\u001b[0m\u001b[0;34m\u001b[0m\u001b[0;34m\u001b[0m\u001b[0m\n\u001b[0m\u001b[1;32m   4214\u001b[0m \u001b[0;34m\u001b[0m\u001b[0m\n\u001b[1;32m   4215\u001b[0m         \u001b[0;32mif\u001b[0m \u001b[0mlen\u001b[0m\u001b[0;34m(\u001b[0m\u001b[0mmapped\u001b[0m\u001b[0;34m)\u001b[0m \u001b[0;32mand\u001b[0m \u001b[0misinstance\u001b[0m\u001b[0;34m(\u001b[0m\u001b[0mmapped\u001b[0m\u001b[0;34m[\u001b[0m\u001b[0;36m0\u001b[0m\u001b[0;34m]\u001b[0m\u001b[0;34m,\u001b[0m \u001b[0mSeries\u001b[0m\u001b[0;34m)\u001b[0m\u001b[0;34m:\u001b[0m\u001b[0;34m\u001b[0m\u001b[0;34m\u001b[0m\u001b[0m\n",
            "\u001b[0;32mpandas/_libs/lib.pyx\u001b[0m in \u001b[0;36mpandas._libs.lib.map_infer\u001b[0;34m()\u001b[0m\n",
            "\u001b[0;32m<ipython-input-19-38e0b26cceb8>\u001b[0m in \u001b[0;36m<lambda>\u001b[0;34m(x)\u001b[0m\n\u001b[0;32m----> 1\u001b[0;31m \u001b[0mdf\u001b[0m\u001b[0;34m[\u001b[0m\u001b[0;34m'dow'\u001b[0m\u001b[0;34m]\u001b[0m \u001b[0;34m=\u001b[0m \u001b[0mdf\u001b[0m\u001b[0;34m[\u001b[0m\u001b[0;34m'created'\u001b[0m\u001b[0;34m]\u001b[0m\u001b[0;34m.\u001b[0m\u001b[0mapply\u001b[0m\u001b[0;34m(\u001b[0m\u001b[0;32mlambda\u001b[0m \u001b[0mx\u001b[0m\u001b[0;34m:\u001b[0m \u001b[0mx\u001b[0m\u001b[0;34m.\u001b[0m\u001b[0mdate\u001b[0m\u001b[0;34m(\u001b[0m\u001b[0;34m)\u001b[0m\u001b[0;34m.\u001b[0m\u001b[0mweekday\u001b[0m\u001b[0;34m(\u001b[0m\u001b[0;34m)\u001b[0m\u001b[0;34m)\u001b[0m\u001b[0;34m\u001b[0m\u001b[0;34m\u001b[0m\u001b[0m\n\u001b[0m\u001b[1;32m      2\u001b[0m \u001b[0mdf\u001b[0m\u001b[0;34m[\u001b[0m\u001b[0;34m'is_weekend'\u001b[0m\u001b[0;34m]\u001b[0m \u001b[0;34m=\u001b[0m \u001b[0mdf\u001b[0m\u001b[0;34m[\u001b[0m\u001b[0;34m'created'\u001b[0m\u001b[0;34m]\u001b[0m\u001b[0;34m.\u001b[0m\u001b[0mapply\u001b[0m\u001b[0;34m(\u001b[0m\u001b[0;32mlambda\u001b[0m \u001b[0mx\u001b[0m\u001b[0;34m:\u001b[0m \u001b[0;36m1\u001b[0m \u001b[0;32mif\u001b[0m \u001b[0mx\u001b[0m\u001b[0;34m.\u001b[0m\u001b[0mdate\u001b[0m\u001b[0;34m(\u001b[0m\u001b[0;34m)\u001b[0m\u001b[0;34m.\u001b[0m\u001b[0mweekday\u001b[0m\u001b[0;34m(\u001b[0m\u001b[0;34m)\u001b[0m \u001b[0;32min\u001b[0m \u001b[0;34m(\u001b[0m\u001b[0;36m5\u001b[0m\u001b[0;34m,\u001b[0m \u001b[0;36m6\u001b[0m\u001b[0;34m)\u001b[0m \u001b[0;32melse\u001b[0m \u001b[0;36m0\u001b[0m\u001b[0;34m)\u001b[0m\u001b[0;34m\u001b[0m\u001b[0;34m\u001b[0m\u001b[0m\n",
            "\u001b[0;31mAttributeError\u001b[0m: 'str' object has no attribute 'date'"
          ]
        }
      ]
    }
  ]
}