{
  "cells": [
    {
      "cell_type": "code",
      "execution_count": null,
      "metadata": {
        "id": "kteDuE-7p-Je"
      },
      "outputs": [],
      "source": [
        "import torch\n",
        "import numpy as np\n",
        "import random\n",
        "import pandas as pd\n",
        "\n",
        "def fixSeeds():\n",
        "  # To make random weights in NN consistent from launch to launch on this device\n",
        "  # To actually distinguish an improvement\n",
        "  random.seed(0)\n",
        "  np.random.seed(0)\n",
        "  torch.manual_seed(0)\n",
        "  torch.cuda.manual_seed(0)\n",
        "  torch.backends.cudnn.deterministic = True\n",
        "\n",
        "fixSeeds()"
      ]
    },
    {
      "cell_type": "code",
      "execution_count": null,
      "metadata": {
        "id": "8yurbTVkx2Mz"
      },
      "outputs": [],
      "source": [
        "import torchvision.datasets\n",
        "MNIST_train = torchvision.datasets.MNIST('./', download=True, train=True)\n",
        "MNIST_test = torchvision.datasets.MNIST('./', download=True, train=False)"
      ]
    },
    {
      "cell_type": "code",
      "execution_count": null,
      "metadata": {
        "colab": {
          "base_uri": "https://localhost:8080/"
        },
        "id": "bTlSE5dPx68n",
        "outputId": "17b14bbf-244a-47a8-a803-b3c6676c8d18"
      },
      "outputs": [
        {
          "name": "stderr",
          "output_type": "stream",
          "text": [
            "/usr/local/lib/python3.7/dist-packages/torchvision/datasets/mnist.py:62: UserWarning: train_data has been renamed data\n",
            "  warnings.warn(\"train_data has been renamed data\")\n",
            "/usr/local/lib/python3.7/dist-packages/torchvision/datasets/mnist.py:52: UserWarning: train_labels has been renamed targets\n",
            "  warnings.warn(\"train_labels has been renamed targets\")\n",
            "/usr/local/lib/python3.7/dist-packages/torchvision/datasets/mnist.py:67: UserWarning: test_data has been renamed data\n",
            "  warnings.warn(\"test_data has been renamed data\")\n",
            "/usr/local/lib/python3.7/dist-packages/torchvision/datasets/mnist.py:57: UserWarning: test_labels has been renamed targets\n",
            "  warnings.warn(\"test_labels has been renamed targets\")\n"
          ]
        },
        {
          "data": {
            "text/plain": [
              "(torch.uint8, torch.int64)"
            ]
          },
          "execution_count": 81,
          "metadata": {},
          "output_type": "execute_result"
        }
      ],
      "source": [
        "X_train = MNIST_train.train_data\n",
        "y_train = MNIST_train.train_labels\n",
        "X_test = MNIST_test.test_data\n",
        "y_test = MNIST_test.test_labels\n",
        "\n",
        "X_train.dtype, y_train.dtype"
      ]
    },
    {
      "cell_type": "code",
      "execution_count": null,
      "metadata": {
        "colab": {
          "base_uri": "https://localhost:8080/",
          "height": 282
        },
        "id": "fUSt-BEPYdl_",
        "outputId": "22360907-245b-4a6a-f45a-13fbe00de6b4"
      },
      "outputs": [
        {
          "data": {
            "image/png": "[encoded data removed]",
            "text/plain": [
              "<Figure size 432x288 with 1 Axes>"
            ]
          },
          "metadata": {},
          "output_type": "display_data"
        },
        {
          "data": {
            "text/plain": [
              "tensor(5)"
            ]
          },
          "execution_count": 82,
          "metadata": {},
          "output_type": "execute_result"
        }
      ],
      "source": [
        "import matplotlib.pyplot as plt\n",
        "plt.imshow(X_train[0, :, :])\n",
        "plt.show()\n",
        "y_train[0]"
      ]
    },
    {
      "cell_type": "code",
      "execution_count": null,
      "metadata": {
        "id": "N2dsvdCXx8p0"
      },
      "outputs": [],
      "source": [
        "X_train = X_train.unsqueeze(1).float()\n",
        "X_test = X_test.unsqueeze(1).float()\n"
      ]
    },
    {
      "cell_type": "code",
      "execution_count": null,
      "metadata": {
        "colab": {
          "base_uri": "https://localhost:8080/"
        },
        "id": "xxh9G1_lx-1n",
        "outputId": "107fa16b-244d-4b00-f021-a1010e0571a5"
      },
      "outputs": [
        {
          "data": {
            "text/plain": [
              "(torch.Size([60000, 1, 28, 28]), torch.Size([10000, 1, 28, 28]))"
            ]
          },
          "execution_count": 84,
          "metadata": {},
          "output_type": "execute_result"
        }
      ],
      "source": [
        "X_train.shape, X_test.shape"
      ]
    },
    {
      "cell_type": "code",
      "execution_count": null,
      "metadata": {
        "colab": {
          "base_uri": "https://localhost:8080/"
        },
        "id": "SanoC5H6yAdu",
        "outputId": "b1ab90ed-2793-44d0-edaa-16c4c975cf93"
      },
      "outputs": [
        {
          "data": {
            "text/plain": [
              "(torch.Size([60000]), torch.Size([10000]))"
            ]
          },
          "execution_count": 85,
          "metadata": {},
          "output_type": "execute_result"
        }
      ],
      "source": [
        "y_train.shape, y_test.shape"
      ]
    },
    {
      "cell_type": "code",
      "execution_count": null,
      "metadata": {
        "id": "WG_Ui6FOyCXl"
      },
      "outputs": [],
      "source": [
        ""
      ]
    },
    {
      "cell_type": "code",
      "execution_count": null,
      "metadata": {
        "colab": {
          "base_uri": "https://localhost:8080/"
        },
        "id": "dxnaWEFGyFjG",
        "outputId": "a11764c2-4d7a-40de-cc86-e22ea26873d4"
      },
      "outputs": [
        {
          "data": {
            "text/plain": [
              "True"
            ]
          },
          "execution_count": 86,
          "metadata": {},
          "output_type": "execute_result"
        }
      ],
      "source": [
        "torch.cuda.is_available()"
      ]
    },
    {
      "cell_type": "code",
      "execution_count": null,
      "metadata": {
        "colab": {
          "base_uri": "https://localhost:8080/"
        },
        "id": "uAj9JyMWyHp1",
        "outputId": "970ad7dd-2f27-46cf-8e94-cf72b00f45f3"
      },
      "outputs": [
        {
          "name": "stdout",
          "output_type": "stream",
          "text": [
            "Wed Dec 29 08:54:12 2021       \n",
            "+-----------------------------------------------------------------------------+\n",
            "| NVIDIA-SMI 495.44       Driver Version: 460.32.03    CUDA Version: 11.2     |\n",
            "|-------------------------------+----------------------+----------------------+\n",
            "| GPU  Name        Persistence-M| Bus-Id        Disp.A | Volatile Uncorr. ECC |\n",
            "| Fan  Temp  Perf  Pwr:Usage/Cap|         Memory-Usage | GPU-Util  Compute M. |\n",
            "|                               |                      |               MIG M. |\n",
            "|===============================+======================+======================|\n",
            "|   0  Tesla K80           Off  | 00000000:00:04.0 Off |                    0 |\n",
            "| N/A   68C    P0    79W / 149W |   1820MiB / 11441MiB |      0%      Default |\n",
            "|                               |                      |                  N/A |\n",
            "+-------------------------------+----------------------+----------------------+\n",
            "                                                                               \n",
            "+-----------------------------------------------------------------------------+\n",
            "| Processes:                                                                  |\n",
            "|  GPU   GI   CI        PID   Type   Process name                  GPU Memory |\n",
            "|        ID   ID                                                   Usage      |\n",
            "|=============================================================================|\n",
            "|  No running processes found                                                 |\n",
            "+-----------------------------------------------------------------------------+\n"
          ]
        }
      ],
      "source": [
        "!nvidia-smi"
      ]
    },
    {
      "cell_type": "code",
      "execution_count": null,
      "metadata": {
        "id": "cCQFVcqayfVu"
      },
      "outputs": [],
      "source": [
        "device = torch.device(\"cuda:0\" if torch.cuda.is_available() else \"cpu\")"
      ]
    },
    {
      "cell_type": "code",
      "execution_count": null,
      "metadata": {
        "colab": {
          "base_uri": "https://localhost:8080/"
        },
        "id": "NH4Z6HpryhiK",
        "outputId": "30ef1170-3ff1-4a4a-bf7f-019fc08f46dd"
      },
      "outputs": [
        {
          "data": {
            "text/plain": [
              "LeNet5(\n",
              "  (conv1): Conv2d(1, 12, kernel_size=(5, 5), stride=(1, 1), padding=(2, 2))\n",
              "  (act1): Tanh()\n",
              "  (pool1): AvgPool2d(kernel_size=2, stride=2, padding=0)\n",
              "  (conv2): Conv2d(12, 36, kernel_size=(5, 5), stride=(1, 1))\n",
              "  (act2): Tanh()\n",
              "  (pool2): AvgPool2d(kernel_size=2, stride=2, padding=0)\n",
              "  (fc1): Linear(in_features=900, out_features=120, bias=True)\n",
              "  (act3): Tanh()\n",
              "  (fc2): Linear(in_features=120, out_features=84, bias=True)\n",
              "  (act4): Tanh()\n",
              "  (fc3): Linear(in_features=84, out_features=10, bias=True)\n",
              ")"
            ]
          },
          "execution_count": 93,
          "metadata": {},
          "output_type": "execute_result"
        }
      ],
      "source": [
        "import torch.nn as nn\n",
        "class LeNet5(nn.Module):\n",
        "  def __init__(self):\n",
        "    super(LeNet5, self).__init__()\n",
        "    \n",
        "    self.conv1 = nn.Conv2d(\n",
        "        in_channels=1, out_channels=12, kernel_size=5, padding=2)\n",
        "    self.act1 = nn.Tanh()\n",
        "    self.pool1 = nn.AvgPool2d(kernel_size=2, stride=2)\n",
        "\n",
        "    self.conv2 = nn.Conv2d(\n",
        "        in_channels=12, out_channels=36, kernel_size=5, padding=0)\n",
        "    self.act2 = nn.Tanh()\n",
        "    self.pool2 = nn.AvgPool2d(kernel_size=2, stride=2)\n",
        "\n",
        "    self.fc1 = nn.Linear(36*5*5, 120)\n",
        "    self.act3 = nn.Tanh()\n",
        "\n",
        "    self.fc2 = nn.Linear(120, 84)\n",
        "    self.act4 = nn.Tanh()\n",
        "\n",
        "    self.fc3 = nn.Linear(84, 10)\n",
        "\n",
        "  def forward(self, x):\n",
        "    x = self.conv1(x)\n",
        "    x = self.act1(x)\n",
        "    x = self.pool1(x)\n",
        "\n",
        "    x = self.conv2(x)\n",
        "    x = self.act2(x)\n",
        "    x = self.pool2(x)\n",
        "\n",
        "    x = x.view(x.size(0), x.size(1) * x.size(2) * x.size(3))\n",
        "\n",
        "    x = self.fc1(x)\n",
        "    x = self.act3(x)\n",
        "\n",
        "    x = self.fc2(x)\n",
        "    x = self.act4(x)\n",
        "\n",
        "    x = self.fc3(x)\n",
        "\n",
        "    return x\n",
        "leNet5 = LeNet5()\n",
        "leNet5.to(device)"
      ]
    },
    {
      "cell_type": "code",
      "execution_count": null,
      "metadata": {
        "id": "yqPHcN6ON480"
      },
      "outputs": [],
      "source": [
        "loss = torch.nn.CrossEntropyLoss()\n",
        "optimizer = torch.optim.Adam(leNet5.parameters(), lr = 1e-3)"
      ]
    },
    {
      "cell_type": "code",
      "execution_count": null,
      "metadata": {
        "colab": {
          "background_save": true,
          "base_uri": "https://localhost:8080/"
        },
        "id": "40TUCzJjOdjw",
        "outputId": "3b668cf9-694c-40e1-82f1-6112b45bca75"
      },
      "outputs": [
        {
          "name": "stdout",
          "output_type": "stream",
          "text": [
            "tensor(0.9838)\n",
            "tensor(0.9832)\n",
            "tensor(0.9868)\n",
            "tensor(0.9863)\n",
            "tensor(0.9893)\n",
            "tensor(0.9897)\n",
            "tensor(0.9882)\n",
            "tensor(0.9896)\n",
            "tensor(0.9892)\n",
            "tensor(0.9872)\n",
            "tensor(0.9890)\n",
            "tensor(0.9869)\n",
            "tensor(0.9884)\n",
            "tensor(0.9890)\n",
            "tensor(0.9887)\n",
            "tensor(0.9875)\n",
            "tensor(0.9894)\n",
            "tensor(0.9903)\n",
            "tensor(0.9904)\n",
            "tensor(0.9886)\n",
            "tensor(0.9895)\n",
            "tensor(0.9895)\n",
            "tensor(0.9906)\n",
            "tensor(0.9907)\n",
            "tensor(0.9885)\n",
            "tensor(0.9886)\n",
            "tensor(0.9892)\n",
            "tensor(0.9892)\n",
            "tensor(0.9904)\n",
            "tensor(0.9883)\n",
            "tensor(0.9889)\n",
            "tensor(0.9908)\n",
            "tensor(0.9895)\n",
            "tensor(0.9892)\n",
            "tensor(0.9894)\n",
            "tensor(0.9905)\n",
            "tensor(0.9884)\n",
            "tensor(0.9916)\n",
            "tensor(0.9895)\n",
            "tensor(0.9893)\n",
            "tensor(0.9885)\n",
            "tensor(0.9901)\n",
            "tensor(0.9898)\n",
            "tensor(0.9894)\n",
            "tensor(0.9888)\n",
            "tensor(0.9892)\n",
            "tensor(0.9876)\n",
            "tensor(0.9886)\n",
            "tensor(0.9904)\n",
            "tensor(0.9896)\n",
            "tensor(0.9883)\n",
            "tensor(0.9900)\n",
            "tensor(0.9892)\n",
            "tensor(0.9890)\n",
            "tensor(0.9883)\n",
            "tensor(0.9895)\n",
            "tensor(0.9902)\n",
            "tensor(0.9898)\n",
            "tensor(0.9890)\n",
            "tensor(0.9886)\n",
            "tensor(0.9899)\n",
            "tensor(0.9897)\n",
            "tensor(0.9904)\n",
            "tensor(0.9876)\n",
            "tensor(0.9889)\n",
            "tensor(0.9900)\n",
            "tensor(0.9908)\n",
            "tensor(0.9877)\n",
            "tensor(0.9883)\n",
            "tensor(0.9887)\n",
            "tensor(0.9884)\n",
            "tensor(0.9887)\n",
            "tensor(0.9887)\n",
            "tensor(0.9886)\n",
            "tensor(0.9889)\n",
            "tensor(0.9892)\n",
            "tensor(0.9902)\n",
            "tensor(0.9904)\n",
            "tensor(0.9915)\n",
            "tensor(0.9906)\n",
            "tensor(0.9890)\n",
            "tensor(0.9901)\n",
            "tensor(0.9902)\n",
            "tensor(0.9906)\n",
            "tensor(0.9900)\n",
            "tensor(0.9891)\n",
            "tensor(0.9896)\n",
            "tensor(0.9898)\n",
            "tensor(0.9903)\n",
            "tensor(0.9894)\n",
            "tensor(0.9887)\n",
            "tensor(0.9896)\n",
            "tensor(0.9884)\n",
            "tensor(0.9895)\n",
            "tensor(0.9890)\n",
            "tensor(0.9897)\n",
            "tensor(0.9903)\n",
            "tensor(0.9897)\n",
            "tensor(0.9901)\n",
            "tensor(0.9899)\n",
            "tensor(0.9875)\n",
            "tensor(0.9886)\n",
            "tensor(0.9895)\n",
            "tensor(0.9895)\n",
            "tensor(0.9893)\n",
            "tensor(0.9892)\n",
            "tensor(0.9903)\n",
            "tensor(0.9895)\n",
            "tensor(0.9900)\n",
            "tensor(0.9890)\n",
            "tensor(0.9890)\n",
            "tensor(0.9886)\n",
            "tensor(0.9862)\n",
            "tensor(0.9870)\n",
            "tensor(0.9880)\n",
            "tensor(0.9878)\n",
            "tensor(0.9879)\n",
            "tensor(0.9875)\n",
            "tensor(0.9889)\n",
            "tensor(0.9893)\n",
            "tensor(0.9889)\n",
            "tensor(0.9882)\n",
            "tensor(0.9885)\n",
            "tensor(0.9887)\n",
            "tensor(0.9878)\n",
            "tensor(0.9854)\n",
            "tensor(0.9886)\n",
            "tensor(0.9884)\n",
            "tensor(0.9895)\n",
            "tensor(0.9877)\n",
            "tensor(0.9864)\n",
            "tensor(0.9889)\n",
            "tensor(0.9885)\n",
            "tensor(0.9883)\n",
            "tensor(0.9888)\n",
            "tensor(0.9886)\n",
            "tensor(0.9897)\n",
            "tensor(0.9866)\n",
            "tensor(0.9887)\n",
            "tensor(0.9883)\n",
            "tensor(0.9893)\n",
            "tensor(0.9891)\n",
            "tensor(0.9898)\n",
            "tensor(0.9896)\n",
            "tensor(0.9892)\n",
            "tensor(0.9894)\n",
            "tensor(0.9891)\n",
            "tensor(0.9892)\n",
            "tensor(0.9877)\n",
            "tensor(0.9898)\n",
            "tensor(0.9886)\n",
            "tensor(0.9888)\n",
            "tensor(0.9895)\n",
            "tensor(0.9882)\n",
            "tensor(0.9881)\n",
            "tensor(0.9894)\n",
            "tensor(0.9883)\n",
            "tensor(0.9893)\n",
            "tensor(0.9885)\n",
            "tensor(0.9884)\n",
            "tensor(0.9900)\n",
            "tensor(0.9897)\n",
            "tensor(0.9892)\n",
            "tensor(0.9876)\n",
            "tensor(0.9899)\n",
            "tensor(0.9893)\n",
            "tensor(0.9896)\n",
            "tensor(0.9898)\n",
            "tensor(0.9898)\n",
            "tensor(0.9882)\n",
            "tensor(0.9890)\n",
            "tensor(0.9880)\n",
            "tensor(0.9891)\n",
            "tensor(0.9900)\n",
            "tensor(0.9891)\n",
            "tensor(0.9894)\n",
            "tensor(0.9872)\n",
            "tensor(0.9885)\n",
            "tensor(0.9874)\n",
            "tensor(0.9875)\n",
            "tensor(0.9879)\n",
            "tensor(0.9893)\n",
            "tensor(0.9894)\n",
            "tensor(0.9891)\n",
            "tensor(0.9892)\n",
            "tensor(0.9896)\n",
            "tensor(0.9900)\n",
            "tensor(0.9888)\n",
            "tensor(0.9874)\n",
            "tensor(0.9887)\n",
            "tensor(0.9875)\n",
            "tensor(0.9883)\n",
            "tensor(0.9881)\n",
            "tensor(0.9904)\n",
            "tensor(0.9893)\n",
            "tensor(0.9897)\n",
            "tensor(0.9896)\n",
            "tensor(0.9892)\n",
            "tensor(0.9890)\n",
            "tensor(0.9895)\n"
          ]
        }
      ],
      "source": [
        "batch_size = 100\n",
        "\n",
        "X_test = X_test.to(device)\n",
        "y_test = y_test.to(device)\n",
        "\n",
        "\n",
        "test_accuracy_history = []\n",
        "test_loss_history = []\n",
        "\n",
        "for epoch in range(200):\n",
        "  permutation = np.random.permutation(len(X_train))\n",
        "  for start_index in range(0, len(X_train), batch_size):\n",
        "    optimizer.zero_grad()\n",
        "\n",
        "    X_batch = X_train[permutation[start_index : start_index + batch_size]].to(device)\n",
        "    y_batch = y_train[permutation[start_index : start_index + batch_size]].to(device)\n",
        "    \n",
        "    prediction = leNet5.forward(X_batch)\n",
        "    loss_value = loss(prediction, y_batch)\n",
        "    loss_value.backward()\n",
        "\n",
        "    optimizer.step()\n",
        "\n",
        "  test_prediction = leNet5.forward(X_test)\n",
        "  test_loss_history.append(loss(test_prediction, y_test).data.cpu())\n",
        "  accuracy = (test_prediction.argmax(dim=1) == y_test).float().mean().data.cpu()\n",
        "  test_accuracy_history.append(accuracy)\n",
        "  print(accuracy)\n",
        "\n"
      ]
    },
    {
      "cell_type": "code",
      "execution_count": null,
      "metadata": {
        "colab": {
          "base_uri": "https://localhost:8080/",
          "height": 265
        },
        "id": "RB3YKvubZQ4A",
        "outputId": "2e8c46ad-4a29-47d2-8640-2acce8cae941"
      },
      "outputs": [
        {
          "data": {
            "image/png": "[encoded data removed]",
            "text/plain": [
              "<Figure size 432x288 with 1 Axes>"
            ]
          },
          "metadata": {},
          "output_type": "display_data"
        }
      ],
      "source": [
        "plt.plot(test_accuracy_history);\n",
        "plt.plot(test_loss_history);"
      ]
    }
  ],
  "metadata": {
    "accelerator": "GPU",
    "colab": {
      "name": "LeNet.ipynb",
      "provenance": []
    },
    "kernelspec": {
      "display_name": "Python 3",
      "name": "python3"
    },
    "language_info": {
      "name": "python"
    }
  },
  "nbformat": 4,
  "nbformat_minor": 0
}