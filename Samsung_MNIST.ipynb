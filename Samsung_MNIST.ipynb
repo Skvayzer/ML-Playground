{
  "nbformat": 4,
  "nbformat_minor": 0,
  "metadata": {
    "colab": {
      "name": "Samsung MNIST.ipynb",
      "provenance": [],
      "collapsed_sections": []
    },
    "kernelspec": {
      "name": "python3",
      "display_name": "Python 3"
    },
    "language_info": {
      "name": "python"
    },
    "accelerator": "GPU"
  },
  "cells": [
    {
      "cell_type": "code",
      "execution_count": null,
      "metadata": {
        "id": "S8dSr7ZMrFuM"
      },
      "outputs": [],
      "source": [
        "import torch\n",
        "import numpy as np\n",
        "import random\n",
        "import pandas as pd\n",
        "\n",
        "def fixSeeds():\n",
        "  # To make random weights in NN consistent from launch to launch on this device\n",
        "  # To actually distinguish an improvement\n",
        "  random.seed(0)\n",
        "  np.random.seed(0)\n",
        "  torch.manual_seed(0)\n",
        "  torch.cuda.manual_seed(0)\n",
        "  torch.backends.cudnn.deterministic = True\n",
        "\n",
        "fixSeeds()"
      ]
    },
    {
      "cell_type": "code",
      "source": [
        "import torchvision.datasets\n",
        "MNIST_train = torchvision.datasets.MNIST('./', download=True, train=True)\n",
        "MNIST_test = torchvision.datasets.MNIST('./', download=True, train=False)"
      ],
      "metadata": {
        "id": "7Bhj4sVsrWoo"
      },
      "execution_count": null,
      "outputs": []
    },
    {
      "cell_type": "code",
      "source": [
        "X_train = MNIST_train.train_data\n",
        "y_train = MNIST_train.train_labels\n",
        "X_test = MNIST_test.test_data\n",
        "y_test = MNIST_test.test_labels\n",
        "\n",
        "X_train.dtype, y_train.dtype"
      ],
      "metadata": {
        "colab": {
          "base_uri": "https://localhost:8080/"
        },
        "id": "hVWTcxFIDfZV",
        "outputId": "d7815308-8e34-4a56-b1cc-cab022f99be2"
      },
      "execution_count": null,
      "outputs": [
        {
          "output_type": "stream",
          "name": "stderr",
          "text": [
            "/usr/local/lib/python3.7/dist-packages/torchvision/datasets/mnist.py:62: UserWarning: train_data has been renamed data\n",
            "  warnings.warn(\"train_data has been renamed data\")\n",
            "/usr/local/lib/python3.7/dist-packages/torchvision/datasets/mnist.py:52: UserWarning: train_labels has been renamed targets\n",
            "  warnings.warn(\"train_labels has been renamed targets\")\n",
            "/usr/local/lib/python3.7/dist-packages/torchvision/datasets/mnist.py:67: UserWarning: test_data has been renamed data\n",
            "  warnings.warn(\"test_data has been renamed data\")\n",
            "/usr/local/lib/python3.7/dist-packages/torchvision/datasets/mnist.py:57: UserWarning: test_labels has been renamed targets\n",
            "  warnings.warn(\"test_labels has been renamed targets\")\n"
          ]
        },
        {
          "output_type": "execute_result",
          "data": {
            "text/plain": [
              "(torch.uint8, torch.int64)"
            ]
          },
          "metadata": {},
          "execution_count": 39
        }
      ]
    },
    {
      "cell_type": "code",
      "source": [
        "X_train = X_train.float()\n",
        "X_test = X_test.float()"
      ],
      "metadata": {
        "id": "xrpXyL_NEJw6"
      },
      "execution_count": null,
      "outputs": []
    },
    {
      "cell_type": "code",
      "source": [
        "X_train.shape, X_test.shape"
      ],
      "metadata": {
        "colab": {
          "base_uri": "https://localhost:8080/"
        },
        "id": "dMRzMrayGyYo",
        "outputId": "8a660b0a-68e3-46e0-f33d-ade0afcbc3a5"
      },
      "execution_count": null,
      "outputs": [
        {
          "output_type": "execute_result",
          "data": {
            "text/plain": [
              "(torch.Size([60000, 28, 28]), torch.Size([10000, 28, 28]))"
            ]
          },
          "metadata": {},
          "execution_count": 41
        }
      ]
    },
    {
      "cell_type": "code",
      "source": [
        "y_train.shape, y_test.shape"
      ],
      "metadata": {
        "colab": {
          "base_uri": "https://localhost:8080/"
        },
        "id": "pS9F7AUxHLUS",
        "outputId": "3e698470-3aa4-4d59-ade4-7f13dcd7c536"
      },
      "execution_count": null,
      "outputs": [
        {
          "output_type": "execute_result",
          "data": {
            "text/plain": [
              "(torch.Size([60000]), torch.Size([10000]))"
            ]
          },
          "metadata": {},
          "execution_count": 42
        }
      ]
    },
    {
      "cell_type": "code",
      "source": [
        "import matplotlib.pyplot as plt\n",
        "plt.imshow(X_train[0, :, :])\n",
        "plt.show()\n",
        "y_train[0]"
      ],
      "metadata": {
        "colab": {
          "base_uri": "https://localhost:8080/",
          "height": 282
        },
        "id": "enWfJ6aTZlMc",
        "outputId": "02654140-4cd1-4530-81f0-13dab12bba7a"
      },
      "execution_count": null,
      "outputs": [
        {
          "output_type": "display_data",
          "data": {
            "image/png": "[encoded data removed]",
            "text/plain": [
              "<Figure size 432x288 with 1 Axes>"
            ]
          },
          "metadata": {
            "needs_background": "light"
          }
        },
        {
          "output_type": "execute_result",
          "data": {
            "text/plain": [
              "tensor(5)"
            ]
          },
          "metadata": {},
          "execution_count": 43
        }
      ]
    },
    {
      "cell_type": "code",
      "source": [
        "torch.cuda.is_available()"
      ],
      "metadata": {
        "colab": {
          "base_uri": "https://localhost:8080/"
        },
        "id": "f0tEHMszrkaW",
        "outputId": "791c0f73-cc8d-4008-c7cb-a99a6e1da348"
      },
      "execution_count": null,
      "outputs": [
        {
          "output_type": "execute_result",
          "data": {
            "text/plain": [
              "True"
            ]
          },
          "metadata": {},
          "execution_count": 44
        }
      ]
    },
    {
      "cell_type": "code",
      "source": [
        "!nvidia-smi"
      ],
      "metadata": {
        "colab": {
          "base_uri": "https://localhost:8080/"
        },
        "id": "J8z9oO76sBcw",
        "outputId": "46670e34-9a63-42a7-84d0-63367f1c1ee1"
      },
      "execution_count": null,
      "outputs": [
        {
          "output_type": "stream",
          "name": "stdout",
          "text": [
            "Fri Dec 24 19:54:04 2021       \n",
            "+-----------------------------------------------------------------------------+\n",
            "| NVIDIA-SMI 495.44       Driver Version: 460.32.03    CUDA Version: 11.2     |\n",
            "|-------------------------------+----------------------+----------------------+\n",
            "| GPU  Name        Persistence-M| Bus-Id        Disp.A | Volatile Uncorr. ECC |\n",
            "| Fan  Temp  Perf  Pwr:Usage/Cap|         Memory-Usage | GPU-Util  Compute M. |\n",
            "|                               |                      |               MIG M. |\n",
            "|===============================+======================+======================|\n",
            "|   0  Tesla K80           Off  | 00000000:00:04.0 Off |                    0 |\n",
            "| N/A   73C    P0    76W / 149W |   3208MiB / 11441MiB |      0%      Default |\n",
            "|                               |                      |                  N/A |\n",
            "+-------------------------------+----------------------+----------------------+\n",
            "                                                                               \n",
            "+-----------------------------------------------------------------------------+\n",
            "| Processes:                                                                  |\n",
            "|  GPU   GI   CI        PID   Type   Process name                  GPU Memory |\n",
            "|        ID   ID                                                   Usage      |\n",
            "|=============================================================================|\n",
            "|  No running processes found                                                 |\n",
            "+-----------------------------------------------------------------------------+\n"
          ]
        }
      ]
    },
    {
      "cell_type": "code",
      "source": [
        "device = torch.device(\"cuda:0\" if torch.cuda.is_available() else \"cpu\")"
      ],
      "metadata": {
        "id": "AtHs-_MisF52"
      },
      "execution_count": null,
      "outputs": []
    },
    {
      "cell_type": "code",
      "source": [
        "import torch.nn as nn\n",
        "class MNISTNet(nn.Module):\n",
        "  def __init__(self, input_neurons, hidden_neurons):\n",
        "    super(MNISTNet, self).__init__()\n",
        "    self.input_neurons = input_neurons\n",
        "    self.hidden_neurons = hidden_neurons\n",
        "\n",
        "    self.fc1 = nn.Linear(input_neurons, hidden_neurons)\n",
        "    self.al1 = nn.Sigmoid()\n",
        "    self.fc2 = nn.Linear(hidden_neurons, 10)\n",
        "  \n",
        "  def forward(self, x):\n",
        "    x = self.fc1(x)\n",
        "    x = self.al1(x)\n",
        "    x = self.fc2(x)\n",
        "    return x\n",
        "mnistNet = MNISTNet(28*28, 100)"
      ],
      "metadata": {
        "id": "I9CYnaI_5lnT"
      },
      "execution_count": null,
      "outputs": []
    },
    {
      "cell_type": "code",
      "source": [
        "mnistNet = mnistNet.to(device)\n",
        "mnistNet.parameters()"
      ],
      "metadata": {
        "colab": {
          "base_uri": "https://localhost:8080/"
        },
        "id": "u06CqVVusVsA",
        "outputId": "4d560ac6-f0f1-407b-dfc4-b96e22855efa"
      },
      "execution_count": null,
      "outputs": [
        {
          "output_type": "execute_result",
          "data": {
            "text/plain": [
              "<generator object Module.parameters at 0x7f1c39f05c50>"
            ]
          },
          "metadata": {},
          "execution_count": 48
        }
      ]
    },
    {
      "cell_type": "code",
      "source": [
        "X_train = X_train.reshape([-1, 28*28])\n",
        "X_test = X_test.reshape([-1, 28*28])"
      ],
      "metadata": {
        "id": "eAdp9Q4O7ciO"
      },
      "execution_count": null,
      "outputs": []
    },
    {
      "cell_type": "code",
      "source": [
        "X_train.shape, X_test.shape"
      ],
      "metadata": {
        "colab": {
          "base_uri": "https://localhost:8080/"
        },
        "id": "c2OiwgX_lsPd",
        "outputId": "a25f81fb-d00d-4436-daae-6e8deb72f3eb"
      },
      "execution_count": null,
      "outputs": [
        {
          "output_type": "execute_result",
          "data": {
            "text/plain": [
              "(torch.Size([60000, 784]), torch.Size([10000, 784]))"
            ]
          },
          "metadata": {},
          "execution_count": 50
        }
      ]
    },
    {
      "cell_type": "code",
      "source": [
        "loss = torch.nn.CrossEntropyLoss()\n",
        "optimizer = torch.optim.Adam(mnistNet.parameters(), lr=1e-3)"
      ],
      "metadata": {
        "id": "WhFY93RPmC8x"
      },
      "execution_count": null,
      "outputs": []
    },
    {
      "cell_type": "code",
      "source": [
        ""
      ],
      "metadata": {
        "id": "umZdhYYqm0HL"
      },
      "execution_count": null,
      "outputs": []
    },
    {
      "cell_type": "code",
      "source": [
        "batch_size = 100\n",
        "# X_train = X_train.to(device)\n",
        "# y_train = X_train.to(device)\n",
        "X_test = X_test.to(device)\n",
        "y_test = y_test.to(device)\n",
        "\n",
        "test_accuracy_history = []\n",
        "test_loss_history = []\n",
        "train_loss_history = []\n",
        "\n",
        "\n",
        "for epoch in range(200):\n",
        "  permutation = np.random.permutation(len(X_train))\n",
        "  loss_value = 0\n",
        "  for i in range(0, len(X_train), batch_size):\n",
        "    optimizer.zero_grad()\n",
        "    X_batch = X_train[permutation[i : i+batch_size]].to(device)\n",
        "    y_batch = y_train[permutation[i : i+batch_size]].to(device)\n",
        "    prediction = mnistNet.forward(X_batch)\n",
        "    loss_value = loss(prediction, y_batch)\n",
        "    loss_value.backward()\n",
        "    optimizer.step()\n",
        "\n",
        "  train_loss_history.append(loss_value)\n",
        "  test_prediction = mnistNet.forward(X_test)\n",
        "  accuracy = (test_prediction.argmax(dim=1) == y_test).float().mean()\n",
        "  print(accuracy)\n",
        "  test_loss_history.append(loss(test_prediction, y_test))\n",
        "  test_accuracy_history.append(accuracy)"
      ],
      "metadata": {
        "colab": {
          "base_uri": "https://localhost:8080/"
        },
        "id": "E-RPZbnblz6g",
        "outputId": "22047a00-c616-4bb9-e979-f7412d87be90"
      },
      "execution_count": null,
      "outputs": [
        {
          "output_type": "stream",
          "name": "stdout",
          "text": [
            "tensor(0.9088, device='cuda:0')\n",
            "tensor(0.9141, device='cuda:0')\n",
            "tensor(0.9204, device='cuda:0')\n",
            "tensor(0.9240, device='cuda:0')\n",
            "tensor(0.9261, device='cuda:0')\n",
            "tensor(0.9232, device='cuda:0')\n",
            "tensor(0.9301, device='cuda:0')\n",
            "tensor(0.9310, device='cuda:0')\n",
            "tensor(0.9295, device='cuda:0')\n",
            "tensor(0.9315, device='cuda:0')\n",
            "tensor(0.9283, device='cuda:0')\n",
            "tensor(0.9284, device='cuda:0')\n",
            "tensor(0.9341, device='cuda:0')\n",
            "tensor(0.9320, device='cuda:0')\n",
            "tensor(0.9342, device='cuda:0')\n",
            "tensor(0.9392, device='cuda:0')\n",
            "tensor(0.9390, device='cuda:0')\n",
            "tensor(0.9383, device='cuda:0')\n",
            "tensor(0.9377, device='cuda:0')\n",
            "tensor(0.9353, device='cuda:0')\n",
            "tensor(0.9411, device='cuda:0')\n",
            "tensor(0.9390, device='cuda:0')\n",
            "tensor(0.9377, device='cuda:0')\n",
            "tensor(0.9345, device='cuda:0')\n",
            "tensor(0.9375, device='cuda:0')\n",
            "tensor(0.9414, device='cuda:0')\n",
            "tensor(0.9417, device='cuda:0')\n",
            "tensor(0.9417, device='cuda:0')\n",
            "tensor(0.9427, device='cuda:0')\n",
            "tensor(0.9455, device='cuda:0')\n",
            "tensor(0.9416, device='cuda:0')\n",
            "tensor(0.9459, device='cuda:0')\n",
            "tensor(0.9437, device='cuda:0')\n",
            "tensor(0.9453, device='cuda:0')\n",
            "tensor(0.9424, device='cuda:0')\n",
            "tensor(0.9438, device='cuda:0')\n",
            "tensor(0.9428, device='cuda:0')\n",
            "tensor(0.9460, device='cuda:0')\n",
            "tensor(0.9446, device='cuda:0')\n",
            "tensor(0.9479, device='cuda:0')\n",
            "tensor(0.9487, device='cuda:0')\n",
            "tensor(0.9481, device='cuda:0')\n",
            "tensor(0.9464, device='cuda:0')\n",
            "tensor(0.9430, device='cuda:0')\n",
            "tensor(0.9466, device='cuda:0')\n",
            "tensor(0.9514, device='cuda:0')\n",
            "tensor(0.9494, device='cuda:0')\n",
            "tensor(0.9522, device='cuda:0')\n",
            "tensor(0.9485, device='cuda:0')\n",
            "tensor(0.9495, device='cuda:0')\n",
            "tensor(0.9507, device='cuda:0')\n",
            "tensor(0.9529, device='cuda:0')\n",
            "tensor(0.9475, device='cuda:0')\n",
            "tensor(0.9505, device='cuda:0')\n",
            "tensor(0.9544, device='cuda:0')\n",
            "tensor(0.9543, device='cuda:0')\n",
            "tensor(0.9542, device='cuda:0')\n",
            "tensor(0.9509, device='cuda:0')\n",
            "tensor(0.9532, device='cuda:0')\n",
            "tensor(0.9528, device='cuda:0')\n",
            "tensor(0.9524, device='cuda:0')\n",
            "tensor(0.9493, device='cuda:0')\n",
            "tensor(0.9548, device='cuda:0')\n",
            "tensor(0.9555, device='cuda:0')\n",
            "tensor(0.9537, device='cuda:0')\n",
            "tensor(0.9571, device='cuda:0')\n",
            "tensor(0.9546, device='cuda:0')\n",
            "tensor(0.9581, device='cuda:0')\n",
            "tensor(0.9543, device='cuda:0')\n",
            "tensor(0.9536, device='cuda:0')\n",
            "tensor(0.9542, device='cuda:0')\n",
            "tensor(0.9527, device='cuda:0')\n",
            "tensor(0.9521, device='cuda:0')\n",
            "tensor(0.9541, device='cuda:0')\n",
            "tensor(0.9559, device='cuda:0')\n",
            "tensor(0.9567, device='cuda:0')\n",
            "tensor(0.9584, device='cuda:0')\n",
            "tensor(0.9555, device='cuda:0')\n",
            "tensor(0.9541, device='cuda:0')\n",
            "tensor(0.9540, device='cuda:0')\n",
            "tensor(0.9575, device='cuda:0')\n",
            "tensor(0.9584, device='cuda:0')\n",
            "tensor(0.9553, device='cuda:0')\n",
            "tensor(0.9575, device='cuda:0')\n",
            "tensor(0.9576, device='cuda:0')\n",
            "tensor(0.9577, device='cuda:0')\n",
            "tensor(0.9578, device='cuda:0')\n",
            "tensor(0.9596, device='cuda:0')\n",
            "tensor(0.9556, device='cuda:0')\n",
            "tensor(0.9575, device='cuda:0')\n",
            "tensor(0.9557, device='cuda:0')\n",
            "tensor(0.9543, device='cuda:0')\n",
            "tensor(0.9572, device='cuda:0')\n",
            "tensor(0.9550, device='cuda:0')\n",
            "tensor(0.9586, device='cuda:0')\n",
            "tensor(0.9581, device='cuda:0')\n",
            "tensor(0.9563, device='cuda:0')\n",
            "tensor(0.9587, device='cuda:0')\n",
            "tensor(0.9596, device='cuda:0')\n",
            "tensor(0.9574, device='cuda:0')\n",
            "tensor(0.9590, device='cuda:0')\n",
            "tensor(0.9597, device='cuda:0')\n",
            "tensor(0.9621, device='cuda:0')\n",
            "tensor(0.9601, device='cuda:0')\n",
            "tensor(0.9583, device='cuda:0')\n",
            "tensor(0.9576, device='cuda:0')\n",
            "tensor(0.9539, device='cuda:0')\n",
            "tensor(0.9548, device='cuda:0')\n",
            "tensor(0.9589, device='cuda:0')\n",
            "tensor(0.9588, device='cuda:0')\n",
            "tensor(0.9581, device='cuda:0')\n",
            "tensor(0.9608, device='cuda:0')\n",
            "tensor(0.9595, device='cuda:0')\n",
            "tensor(0.9581, device='cuda:0')\n",
            "tensor(0.9606, device='cuda:0')\n",
            "tensor(0.9624, device='cuda:0')\n",
            "tensor(0.9634, device='cuda:0')\n",
            "tensor(0.9627, device='cuda:0')\n",
            "tensor(0.9553, device='cuda:0')\n",
            "tensor(0.9580, device='cuda:0')\n",
            "tensor(0.9592, device='cuda:0')\n",
            "tensor(0.9592, device='cuda:0')\n",
            "tensor(0.9579, device='cuda:0')\n",
            "tensor(0.9589, device='cuda:0')\n",
            "tensor(0.9596, device='cuda:0')\n",
            "tensor(0.9580, device='cuda:0')\n",
            "tensor(0.9573, device='cuda:0')\n",
            "tensor(0.9612, device='cuda:0')\n",
            "tensor(0.9569, device='cuda:0')\n",
            "tensor(0.9584, device='cuda:0')\n",
            "tensor(0.9612, device='cuda:0')\n",
            "tensor(0.9603, device='cuda:0')\n",
            "tensor(0.9615, device='cuda:0')\n",
            "tensor(0.9632, device='cuda:0')\n",
            "tensor(0.9583, device='cuda:0')\n",
            "tensor(0.9624, device='cuda:0')\n",
            "tensor(0.9597, device='cuda:0')\n",
            "tensor(0.9598, device='cuda:0')\n",
            "tensor(0.9614, device='cuda:0')\n",
            "tensor(0.9618, device='cuda:0')\n",
            "tensor(0.9614, device='cuda:0')\n",
            "tensor(0.9629, device='cuda:0')\n",
            "tensor(0.9630, device='cuda:0')\n",
            "tensor(0.9622, device='cuda:0')\n",
            "tensor(0.9613, device='cuda:0')\n",
            "tensor(0.9609, device='cuda:0')\n",
            "tensor(0.9626, device='cuda:0')\n",
            "tensor(0.9615, device='cuda:0')\n",
            "tensor(0.9618, device='cuda:0')\n",
            "tensor(0.9577, device='cuda:0')\n",
            "tensor(0.9601, device='cuda:0')\n",
            "tensor(0.9653, device='cuda:0')\n",
            "tensor(0.9629, device='cuda:0')\n",
            "tensor(0.9638, device='cuda:0')\n",
            "tensor(0.9589, device='cuda:0')\n",
            "tensor(0.9590, device='cuda:0')\n",
            "tensor(0.9615, device='cuda:0')\n",
            "tensor(0.9582, device='cuda:0')\n",
            "tensor(0.9599, device='cuda:0')\n",
            "tensor(0.9612, device='cuda:0')\n",
            "tensor(0.9602, device='cuda:0')\n",
            "tensor(0.9623, device='cuda:0')\n",
            "tensor(0.9607, device='cuda:0')\n",
            "tensor(0.9584, device='cuda:0')\n",
            "tensor(0.9601, device='cuda:0')\n",
            "tensor(0.9598, device='cuda:0')\n",
            "tensor(0.9618, device='cuda:0')\n",
            "tensor(0.9633, device='cuda:0')\n",
            "tensor(0.9610, device='cuda:0')\n",
            "tensor(0.9602, device='cuda:0')\n",
            "tensor(0.9596, device='cuda:0')\n",
            "tensor(0.9596, device='cuda:0')\n",
            "tensor(0.9643, device='cuda:0')\n",
            "tensor(0.9640, device='cuda:0')\n",
            "tensor(0.9606, device='cuda:0')\n",
            "tensor(0.9631, device='cuda:0')\n",
            "tensor(0.9620, device='cuda:0')\n",
            "tensor(0.9603, device='cuda:0')\n",
            "tensor(0.9587, device='cuda:0')\n",
            "tensor(0.9605, device='cuda:0')\n",
            "tensor(0.9607, device='cuda:0')\n",
            "tensor(0.9648, device='cuda:0')\n",
            "tensor(0.9634, device='cuda:0')\n",
            "tensor(0.9640, device='cuda:0')\n",
            "tensor(0.9632, device='cuda:0')\n",
            "tensor(0.9615, device='cuda:0')\n",
            "tensor(0.9621, device='cuda:0')\n",
            "tensor(0.9622, device='cuda:0')\n",
            "tensor(0.9631, device='cuda:0')\n",
            "tensor(0.9621, device='cuda:0')\n",
            "tensor(0.9636, device='cuda:0')\n",
            "tensor(0.9632, device='cuda:0')\n",
            "tensor(0.9646, device='cuda:0')\n",
            "tensor(0.9629, device='cuda:0')\n",
            "tensor(0.9624, device='cuda:0')\n",
            "tensor(0.9609, device='cuda:0')\n",
            "tensor(0.9653, device='cuda:0')\n",
            "tensor(0.9652, device='cuda:0')\n",
            "tensor(0.9652, device='cuda:0')\n",
            "tensor(0.9632, device='cuda:0')\n"
          ]
        }
      ]
    },
    {
      "cell_type": "code",
      "source": [
        "plt.plot(train_loss_history)\n",
        "plt.plot(test_loss_history)"
      ],
      "metadata": {
        "colab": {
          "base_uri": "https://localhost:8080/",
          "height": 282
        },
        "id": "oiEsdEkjejZZ",
        "outputId": "2f981557-4f54-4d91-f61b-1da00ead78a6"
      },
      "execution_count": null,
      "outputs": [
        {
          "output_type": "execute_result",
          "data": {
            "text/plain": [
              "[<matplotlib.lines.Line2D at 0x7f1c39e39e10>]"
            ]
          },
          "metadata": {},
          "execution_count": 53
        },
        {
          "output_type": "display_data",
          "data": {
            "image/png": "[encoded data removed]",
            "text/plain": [
              "<Figure size 432x288 with 1 Axes>"
            ]
          },
          "metadata": {
            "needs_background": "light"
          }
        }
      ]
    },
    {
      "cell_type": "code",
      "source": [
        ""
      ],
      "metadata": {
        "id": "ISQGzxt3rTun",
        "colab": {
          "base_uri": "https://localhost:8080/"
        },
        "outputId": "97e5c78b-e236-4432-bb5d-08fd7e7ada39"
      },
      "execution_count": null,
      "outputs": [
        {
          "output_type": "stream",
          "name": "stdout",
          "text": [
            "torch.Size([4, 10, 8, 16])\n"
          ]
        }
      ]
    },
    {
      "cell_type": "code",
      "source": [
        ""
      ],
      "metadata": {
        "id": "muk4Y-xfENiP"
      },
      "execution_count": null,
      "outputs": []
    }
  ]
}